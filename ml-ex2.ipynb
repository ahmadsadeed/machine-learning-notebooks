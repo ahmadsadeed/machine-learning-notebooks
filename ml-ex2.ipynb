{
 "cells": [
  {
   "cell_type": "markdown",
   "metadata": {},
   "source": [
    "## Logistic regression"
   ]
  },
  {
   "cell_type": "markdown",
   "metadata": {},
   "source": [
    "This exercise is described in [ex2.pdf](data/ml-ex2/ex2.pdf)."
   ]
  },
  {
   "cell_type": "code",
   "execution_count": 139,
   "metadata": {},
   "outputs": [],
   "source": [
    "import numpy as np\n",
    "import matplotlib.pyplot as plt\n",
    "\n",
    "from matplotlib import colors\n",
    "from sklearn.linear_model import LogisticRegression\n",
    "from sklearn.pipeline import Pipeline\n",
    "from sklearn.preprocessing import PolynomialFeatures, StandardScaler\n",
    "from scipy.special import logit\n",
    "\n",
    "%matplotlib inline"
   ]
  },
  {
   "cell_type": "code",
   "execution_count": 140,
   "metadata": {},
   "outputs": [],
   "source": [
    "data = np.loadtxt('data/ml-ex2/ex2data1.txt', delimiter=',')"
   ]
  },
  {
   "cell_type": "code",
   "execution_count": 141,
   "metadata": {},
   "outputs": [],
   "source": [
    "# Separate features (x1, x2) from target (y)\n",
    "X, y = np.hsplit(data, np.array([2]))"
   ]
  },
  {
   "cell_type": "code",
   "execution_count": 142,
   "metadata": {},
   "outputs": [],
   "source": [
    "# LogisticRegression estimator expect an y row vector\n",
    "y = y.ravel()"
   ]
  },
  {
   "cell_type": "markdown",
   "metadata": {},
   "source": [
    "\n",
    "**Logistic regression hypothesis:** \n",
    "$$ h_ \\theta (x) =   g(\\theta^Tx )  $$\n",
    "\n"
   ]
  },
  {
   "cell_type": "markdown",
   "metadata": {},
   "source": [
    "**Sigmoid function:** \n",
    "$$ g (z) =  \\frac{\\mathrm{1} }{\\mathrm{1} + e^{-z}}  $$ "
   ]
  },
  {
   "cell_type": "markdown",
   "metadata": {},
   "source": [
    "**Cost function in logistic regression:**\n",
    "$$ J(\\theta) = \\frac{1}{m} \\sum_{i=1}^m[ - y^{(i)} log(h_\\theta  (x^{(i)})) – (1 – y^{(i)}) log(1-h_\\theta  (x^{(i)}))]  $$\n",
    "\n"
   ]
  },
  {
   "cell_type": "markdown",
   "metadata": {},
   "source": [
    "**The gradient of the cost is a vector of the same length as $ \\theta $ where the $ j^{th} $ element (for j = 0, 1, . . . ,n) is defined as follows:**\n",
    "\n",
    "$$ \\frac{\\partial J(\\theta)}{\\partial \\theta_j} = \\frac{1}{m} \\sum_{i=1}^m(h_\\theta(x^{(i)})-y^{(i)})x_j^{(i)} $$\n",
    "\n"
   ]
  },
  {
   "cell_type": "markdown",
   "metadata": {},
   "source": [
    "### Unregularized logistic regression"
   ]
  },
  {
   "cell_type": "code",
   "execution_count": 143,
   "metadata": {},
   "outputs": [
    {
     "data": {
      "text/plain": [
       "LogisticRegression(C=1000000000.0)"
      ]
     },
     "execution_count": 143,
     "metadata": {},
     "output_type": "execute_result"
    }
   ],
   "source": [
    "# Use 'lbfgs' solver for logistic regression as this is what Octave fminunc does.\n",
    "# Parameter C ist the inverse regularization strength (high values = low regularization).\n",
    "clf = LogisticRegression(C=1e9, solver='lbfgs')\n",
    "clf.fit(X, y)"
   ]
  },
  {
   "cell_type": "code",
   "execution_count": 144,
   "metadata": {},
   "outputs": [
    {
     "name": "stdout",
     "output_type": "stream",
     "text": [
      "-25.16138567101981 0.20623222395628113 0.20147190519771901\n"
     ]
    }
   ],
   "source": [
    "theta0 = clf.intercept_[0]\n",
    "theta1 = clf.coef_[0,0]\n",
    "theta2 = clf.coef_[0,1]\n",
    "print(theta0, theta1, theta2)"
   ]
  },
  {
   "cell_type": "code",
   "execution_count": 145,
   "metadata": {},
   "outputs": [],
   "source": [
    "# Computes x2 at y = logit(0.5) from x1 and model parameters\n",
    "# based on equation y = sigmoid(theta0 + theta1*x1 + theta2*x2)\n",
    "# where logit is the inverse of sigmoid.\n",
    "# (used for computing the linear decision boundary)\n",
    "def x2(x1):\n",
    "    return (logit(0.5) - theta0 - theta1*x1) / theta2"
   ]
  },
  {
   "cell_type": "code",
   "execution_count": 146,
   "metadata": {},
   "outputs": [],
   "source": [
    "x1_min = X[:,0].min()\n",
    "x1_max = X[:,0].max()"
   ]
  },
  {
   "cell_type": "code",
   "execution_count": 147,
   "metadata": {},
   "outputs": [],
   "source": [
    "# x1 and x2 data of linear decision boundary\n",
    "x1_plot = np.array([x1_min, x1_max])\n",
    "x2_plot = x2(x1_plot)"
   ]
  },
  {
   "cell_type": "code",
   "execution_count": 149,
   "metadata": {},
   "outputs": [
    {
     "data": {
      "text/plain": [
       "[<matplotlib.lines.Line2D at 0x7f8f3ac02710>]"
      ]
     },
     "execution_count": 149,
     "metadata": {},
     "output_type": "execute_result"
    },
    {
     "data": {
      "image/png": "[encoded data removed]",
      "text/plain": [
       "<Figure size 432x288 with 1 Axes>"
      ]
     },
     "metadata": {
      "needs_background": "light"
     },
     "output_type": "display_data"
    }
   ],
   "source": [
    "fig, ax = plt.subplots()\n",
    "\n",
    "# Mask for selecting positive and negative examples\n",
    "y_pos = y == 1\n",
    "y_neg = y == 0\n",
    "\n",
    "# Plot examples and decision boundary\n",
    "ax.plot(X[y_pos,0], X[y_pos,1], 'b+', label='Admitted')\n",
    "ax.plot(X[y_neg,0], X[y_neg,1], 'yo', label='Not admitted')\n",
    "ax.set_xlabel('Exam 1 score')\n",
    "ax.set_ylabel('Exam 2 score')\n",
    "ax.legend(loc='upper right')\n",
    "\n",
    "# Plot decision boundary\n",
    "ax.plot(x1_plot, x2_plot)"
   ]
  },
  {
   "cell_type": "code",
   "execution_count": 150,
   "metadata": {},
   "outputs": [],
   "source": [
    "X_test = np.array([\n",
    "    [45., 85.],\n",
    "    [50., 50.],\n",
    "    [80., 80.]\n",
    "])"
   ]
  },
  {
   "cell_type": "code",
   "execution_count": 151,
   "metadata": {},
   "outputs": [
    {
     "data": {
      "text/plain": [
       "array([1., 0., 1.])"
      ]
     },
     "execution_count": 151,
     "metadata": {},
     "output_type": "execute_result"
    }
   ],
   "source": [
    "# Predict class\n",
    "clf.predict(X_test)"
   ]
  },
  {
   "cell_type": "code",
   "execution_count": 153,
   "metadata": {},
   "outputs": [
    {
     "data": {
      "text/plain": [
       "array([[0.2237, 0.7763],\n",
       "       [0.9916, 0.0084],\n",
       "       [0.0006, 0.9994]])"
      ]
     },
     "execution_count": 153,
     "metadata": {},
     "output_type": "execute_result"
    }
   ],
   "source": [
    "# Predict class probabilities\n",
    "np.set_printoptions(precision=4,suppress=True)\n",
    "clf.predict_proba(X_test)"
   ]
  },
  {
   "cell_type": "code",
   "execution_count": 154,
   "metadata": {},
   "outputs": [],
   "source": [
    "theta0 = clf.intercept_[0]\n",
    "theta1 = clf.coef_[0,0]\n",
    "theta2 = clf.coef_[0,1]"
   ]
  },
  {
   "cell_type": "code",
   "execution_count": 121,
   "metadata": {},
   "outputs": [
    {
     "data": {
      "text/plain": [
       "(-25.16138567101981, 0.20623222395628113, 0.20147190519771901)"
      ]
     },
     "execution_count": 121,
     "metadata": {},
     "output_type": "execute_result"
    }
   ],
   "source": [
    "theta0, theta1, theta2"
   ]
  },
  {
   "cell_type": "code",
   "execution_count": 155,
   "metadata": {},
   "outputs": [
    {
     "data": {
      "text/plain": [
       "0.89"
      ]
     },
     "execution_count": 155,
     "metadata": {},
     "output_type": "execute_result"
    }
   ],
   "source": [
    "# Classification accuracy on training set\n",
    "clf.score(X, y)"
   ]
  },
  {
   "cell_type": "markdown",
   "metadata": {},
   "source": [
    "### Regularized logistic regression"
   ]
  },
  {
   "cell_type": "code",
   "execution_count": 163,
   "metadata": {},
   "outputs": [],
   "source": [
    "# Microchip test: \n",
    "# - test 1 (x1) \n",
    "# - test 2 (x2)\n",
    "# - accepted=1, rejected=0 (y)\n",
    "data = np.loadtxt('data/ml-ex2/ex2data2.txt', delimiter=',')"
   ]
  },
  {
   "cell_type": "code",
   "execution_count": 164,
   "metadata": {},
   "outputs": [],
   "source": [
    "# LogisticRegression estimator expect an y row vector\n",
    "X, y = np.hsplit(data, np.array([2]))"
   ]
  },
  {
   "cell_type": "code",
   "execution_count": 165,
   "metadata": {},
   "outputs": [],
   "source": [
    "# Logistic regression estimator requires an y row vector\n",
    "y = y.ravel()"
   ]
  },
  {
   "cell_type": "code",
   "execution_count": 166,
   "metadata": {},
   "outputs": [
    {
     "data": {
      "text/plain": [
       "<matplotlib.legend.Legend at 0x7f8f3ad566d0>"
      ]
     },
     "execution_count": 166,
     "metadata": {},
     "output_type": "execute_result"
    },
    {
     "data": {
      "image/png": "[encoded data removed]",
      "text/plain": [
       "<Figure size 432x288 with 1 Axes>"
      ]
     },
     "metadata": {
      "needs_background": "light"
     },
     "output_type": "display_data"
    }
   ],
   "source": [
    "fig, ax = plt.subplots()\n",
    "\n",
    "# Mask for selecting positive and negative examples\n",
    "y_pos = y == 1\n",
    "y_neg = y == 0\n",
    "\n",
    "# Plot examples\n",
    "ax.plot(X[y_pos,0], X[y_pos,1], 'b+', label='Accepted')\n",
    "ax.plot(X[y_neg,0], X[y_neg,1], 'yo', label='Rejected')\n",
    "ax.set_xlabel('Microchip test 1')\n",
    "ax.set_ylabel('Microchip test 2')\n",
    "ax.legend(loc='upper right')"
   ]
  },
  {
   "cell_type": "code",
   "execution_count": 167,
   "metadata": {},
   "outputs": [
    {
     "data": {
      "text/plain": [
       "Pipeline(steps=[('poly', PolynomialFeatures(degree=6, include_bias=False)),\n",
       "                ('scaler', StandardScaler()), ('clf', LogisticRegression())])"
      ]
     },
     "execution_count": 167,
     "metadata": {},
     "output_type": "execute_result"
    }
   ],
   "source": [
    "# Preprocessor to include polynomial features up to degree 6\n",
    "poly = PolynomialFeatures(6, include_bias=False)\n",
    "\n",
    "# Mean and standard deviation scaler\n",
    "scaler = StandardScaler()\n",
    "\n",
    "# Logistic regression classifier. \n",
    "# - C=1.0 will result in good fit\n",
    "# - C=1e4 will result in overfit (to little regularization)\n",
    "# - C=1e-2 will result in underfit (to much regularization)\n",
    "clf = LogisticRegression(C=1.0, solver='lbfgs')\n",
    "\n",
    "# Pipeline of polynomial feature generator, feature scaler and linear regressor\n",
    "model = Pipeline([('poly', poly), ('scaler', scaler), ('clf', clf)])\n",
    "\n",
    "# Fit data to model\n",
    "model.fit(X, y)"
   ]
  },
  {
   "cell_type": "code",
   "execution_count": 168,
   "metadata": {},
   "outputs": [
    {
     "data": {
      "text/plain": [
       "0.8305084745762712"
      ]
     },
     "execution_count": 168,
     "metadata": {},
     "output_type": "execute_result"
    }
   ],
   "source": [
    "# Classification accuracy on training set\n",
    "model.score(X, y)"
   ]
  },
  {
   "cell_type": "code",
   "execution_count": 169,
   "metadata": {},
   "outputs": [
    {
     "data": {
      "image/png": "[encoded data removed]",
      "text/plain": [
       "<Figure size 432x288 with 1 Axes>"
      ]
     },
     "execution_count": 169,
     "metadata": {},
     "output_type": "execute_result"
    }
   ],
   "source": [
    "grid = np.mgrid[-1:1:500j, -1:1:500j]\n",
    "\n",
    "# Compute acceptance probabilities on 500*500 grid \n",
    "X_grid = np.c_[grid[0].ravel(), grid[1].ravel()]\n",
    "y_grid = model.predict(X_grid).reshape(grid[0].shape)\n",
    "\n",
    "# Plot decision boundary on previous figure\n",
    "cs = ax.contour(grid[0], grid[1], y_grid, 'g-', levels=[0.5])\n",
    "ax.clabel(cs)\n",
    "\n",
    "# Show previous figure with decision boundary\n",
    "fig"
   ]
  },
  {
   "cell_type": "code",
   "execution_count": null,
   "metadata": {},
   "outputs": [],
   "source": []
  }
 ],
 "metadata": {
  "kernelspec": {
   "display_name": "Python 3",
   "language": "python",
   "name": "python3"
  },
  "language_info": {
   "codemirror_mode": {
    "name": "ipython",
    "version": 3
   },
   "file_extension": ".py",
   "mimetype": "text/x-python",
   "name": "python",
   "nbconvert_exporter": "python",
   "pygments_lexer": "ipython3",
   "version": "3.7.7"
  },
  "varInspector": {
   "cols": {
    "lenName": 16,
    "lenType": 16,
    "lenVar": 40
   },
   "kernels_config": {
    "python": {
     "delete_cmd_postfix": "",
     "delete_cmd_prefix": "del ",
     "library": "var_list.py",
     "varRefreshCmd": "print(var_dic_list())"
    },
    "r": {
     "delete_cmd_postfix": ") ",
     "delete_cmd_prefix": "rm(",
     "library": "var_list.r",
     "varRefreshCmd": "cat(var_dic_list()) "
    }
   },
   "position": {
    "height": "143.47825622558594px",
    "left": "742.0435180664062px",
    "right": "20px",
    "top": "120px",
    "width": "350px"
   },
   "types_to_exclude": [
    "module",
    "function",
    "builtin_function_or_method",
    "instance",
    "_Feature"
   ],
   "window_display": false
  }
 },
 "nbformat": 4,
 "nbformat_minor": 2
}
