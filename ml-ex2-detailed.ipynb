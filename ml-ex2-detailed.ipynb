{
 "cells": [
  {
   "cell_type": "markdown",
   "metadata": {},
   "source": [
    "This exercise is described in [ex2.pdf](data/ml-ex2/ex2.pdf)."
   ]
  },
  {
   "cell_type": "markdown",
   "metadata": {},
   "source": [
    "## Logistic Regression\n",
    "\n",
    "Linear Regression can output any values, but there are scenarios where the expected output has to be between 0 to 1. For instance, in classification task, you would want to calculate the probability that the new sample belongs to a particular class. And probabilities have to be between 0 and 1, which Linear Regression doesn't respect. We can use the same gradient descent algorithm and modify the loss function a little bit to reflect the change in output to make squash at between 0 and 1. \n",
    "\n",
    "One more reason why Linear Regression is not suitable is because it assumes that the data (residuals) is normally distributed (See assumptions of Linear Regression). And this assumption is not satisfied when the data is binary (in classification problem). \n",
    "\n",
    "Another reason for the failure of Linear Regression is, probability is often times not linear. Imagine a \"U\" shape where the probabilities are very high and very low at the extreme values of x. \n",
    "\n",
    "One such function is the sigmoid activation. We'll see how the function is derived, and what are the properties of sigmoid.\n",
    "In a nutshell -- Linear Regression fits a straight line to the data. Logistic Regression fits a sigmoid to the data. \n",
    "\n",
    " \n",
    "\n",
    "### Sigmoid Activation\n",
    "\n",
    "Our requirement is $$0 \\le h_\\theta(x) \\le 1$$\n",
    "\n",
    "For starters, let's design a function that always outputs a positive value (Remember probabilities are always non-negative). Consider the Euler's number $e$, $e$ raised to anything will always be positive. This function is called __Natural Exponentiation Function__. \n",
    "\n",
    "### Intuitive explanation of Sigmoid\n",
    "#### Why use $e^x$ and not something else ? like $2^x$ or $45^x$ ?\n",
    "Exponential functions have nice mathematical properties, few of them are as follows:\n",
    "\n",
    "1. Exponential functions (Sigmoid) introduce non-linearity. \n",
    "2. Exponential functions are differentiable, and the easy to differentiate\n",
    "3. Exponential functions are convex, therefore have only global minimum, hence it's easy to optimize. \n",
    "\n",
    "Now that we have positive values, the next step is to make it in less than 1 (Remember, probabilities are always less than 1). Now, for any positive number if we divide the same number + 1, the output will always be less than 1. So out function becomes:\n",
    "\n",
    " $$\\frac{e^x}{e^x + 1}$$\n",
    "\n",
    "Now we have the desired properties, the function is never lesser than 0 nor greater than one. Dividing the above equation by $e^x$, we have\n",
    "\n",
    " $$\\sigma(x) = \\frac{1}{1 + e^{-x}}$$\n",
    " \n",
    " \n",
    "### Mathematical derivation of Sigmoid / Logistic Regression\n",
    "\n",
    "Logistic Regression relies on the principle of Maximum Likelihood Estimation (MLE). Intuitive definition of what MLE does is: Given certain data, there are multiple functions that can model it. Each of the functions tries to replicate what the underlying process does. MLE tries to find which of the function represents the underlying process accurately. Following are some definitions before proceeding to the derivation.\n",
    "\n",
    "#### Odds\n",
    "Odds are nothing but the ratio of an event occurring on the event not-occurring and is given by (assuming Bernoulli trials)\n",
    "\n",
    "$${\\text Odds} = \\frac {\\text P (occurring)} {\\text P (not \\ occurring)} = \\frac {p} {1 - p}$$\n",
    "\n",
    "\n",
    "#### Logit \n",
    "We have to represent the outcome of the function as probability. So by taking odds, we assign the outcome as a probability. We take the log of it for mathematical convenience (later by inverting it we will have sigmoid)\n",
    "\n",
    "$${\\text logit(p)} = \\ln \\frac{p}{1 - p}$$\n",
    "\n",
    "#### Sigmoid\n",
    "The inverse of Logit function is the Sigmoid function.\n",
    "\n",
    "\n",
    "#### Principle\n",
    "The principle of Logistic Regression is to maximize the log likelihood. The linear combination of data is represented as probability using the logit function. \n",
    "\n",
    "Linear Regression representation was: \n",
    "\n",
    "$$h_{\\theta}\\left(x\\right)=\\theta_0+\\theta_1\\cdot x_1+\\theta_2\\cdot x2+....$$\n",
    "\n",
    "In Logistic Regression, we assign a probability to it:\n",
    "\n",
    "$$ h_{\\theta}\\left(y=1\\ \\vert \\ x\\right)=\\theta_0+\\theta_1\\cdot x_1+\\theta_2\\cdot x2+.... $$\n",
    "\n",
    "Above equation is read as: probability y equals 1, given x. This is also called as conditional probability. Now we represent this using logit.\n",
    "\n",
    "$$ \\ln\\left(\\frac{p}{1-p}\\right)=h_{\\theta}\\left(x\\right)$$\n",
    "\n",
    "Taking exponential both sides, \n",
    "$$\\frac{p}{1-p}= e^{h_{\\theta}\\left(x\\right)}$$\n",
    "\n",
    "After some algebra,  we have \n",
    "$$p=\\frac{1}{1+e^{-h_{\\theta}\\left(x\\right)}}$$\n",
    "\n",
    "Which is the definition of sigmoid \n",
    "\n",
    "\n",
    "### Gradient of sigmoid function\n",
    "\n",
    "\n",
    "$\n",
    "\\begin{align}\n",
    "\\dfrac{d}{dx} \\sigma(x) &= \\dfrac{d}{dx} \\left[ \\dfrac{1}{1 + e^{-x}} \\right] \\\\\n",
    "&= \\dfrac{d}{dx} \\left( 1 + \\mathrm{e}^{-x} \\right)^{-1} \\\\\n",
    "&= -(1 + e^{-x})^{-2}(-e^{-x}) \\\\\n",
    "&= \\dfrac{e^{-x}}{\\left(1 + e^{-x}\\right)^2} \\\\\n",
    "&= \\dfrac{1}{1 + e^{-x}\\ } \\cdot \\dfrac{e^{-x}}{1 + e^{-x}}  \\\\\n",
    "&= \\dfrac{1}{1 + e^{-x}\\ } \\cdot \\dfrac{(1 + e^{-x}) - 1}{1 + e^{-x}}  \\\\\n",
    "&= \\dfrac{1}{1 + e^{-x}\\ } \\cdot \\left( \\dfrac{1 + e^{-x}}{1 + e^{-x}} - \\dfrac{1}{1 + e^{-x}} \\right) \\\\\n",
    "&= \\dfrac{1}{1 + e^{-x}\\ } \\cdot \\left( 1 - \\dfrac{1}{1 + e^{-x}} \\right) \\\\\n",
    "&= \\sigma(x) \\cdot (1 - \\sigma(x))\n",
    "\\end{align}\n",
    "$"
   ]
  },
  {
   "cell_type": "code",
   "execution_count": 4,
   "metadata": {},
   "outputs": [
    {
     "data": {
      "image/png": "[encoded data removed]",
      "text/plain": [
       "<Figure size 576x432 with 1 Axes>"
      ]
     },
     "metadata": {
      "needs_background": "light"
     },
     "output_type": "display_data"
    }
   ],
   "source": [
    "from __future__ import division\n",
    "%matplotlib inline\n",
    "\n",
    "import numpy as np\n",
    "import matplotlib.pyplot as plt\n",
    "\n",
    "def sigmoid(x):\n",
    "    return 1 / (1 + np.exp(-x))\n",
    "\n",
    "def grad_sigmoid(x):\n",
    "    return sigmoid(x) * (1 - sigmoid(x))\n",
    "\n",
    "X = np.arange(-10, 10, 0.1)\n",
    "fig = plt.figure(figsize=(8, 6))\n",
    "plt.plot(X, sigmoid(X), label='sigmoid', c='blue', linewidth=3)\n",
    "plt.plot(X, grad_sigmoid(X), label='derivative of sigmoid', c='green', linewidth=3)\n",
    "plt.legend(loc='upper left')\n",
    "plt.xlabel('X')\n",
    "plt.grid(True)\n",
    "plt.ylim([-0.5, 1.5])\n",
    "plt.ylabel('output')\n",
    "plt.title('Sigmoid')\n",
    "plt.axhline(y=0, color='k')\n",
    "plt.axvline(x=0, color='k')\n",
    "plt.show()"
   ]
  },
  {
   "cell_type": "markdown",
   "metadata": {},
   "source": [
    "## Cost function and Optimization Objective for Logistic Regression\n",
    "\n",
    "The objective function for logistic regression will be a little different. Instead of minimizing the sigmoid we'll **differentiate the negative log of the sigmoid**. We do this for a few reasons:\n",
    "1. Math is easier, all the multiplications are converted to sums\n",
    "2. Differentiation is easier\n",
    "3. The function is smooth, hence differentiable.\n",
    "4. Our probability values can be very low eg. 4e-45 which are messy to deal with, using log on them will convert the values to a more readable form. \n",
    "5. If we take only sigmoid, then the resulting function in non-convex function which will have local optimums. Hence, we log it to make it a convex function. \n",
    "\n",
    "Our loss function will be:\n",
    "$$\n",
    "\\begin{equation}\n",
    "    Cost(h_\\theta(x), y)=\n",
    "    \\begin{cases}\n",
    "        -log(h_\\theta(x)), & \\text{if}\\ y=1 \\\\\n",
    "        -log(1 - h_\\theta(x)), & \\text{if}\\ y=0\n",
    "    \\end{cases}\n",
    "\\end{equation}\n",
    "$$\n",
    "\n",
    "Where, $h_\\theta(x)$ is the sigmoid function\n",
    "$$h_\\theta(x) = \\frac{1}{1 + e^{-x}}$$\n",
    "\n",
    "Instead of writing two separate equations, we'll write it in one sigle form:\n",
    "\n",
    "$$Cost(h_\\theta(x), y) = -ylog(h_\\theta(x)) - (1 - y)(log(1 - h_\\theta(x)))$$\n",
    "\n",
    "When y = 0, the left part of the equation automatically becomes 0. When y = 1 the right part of the equation automatically becomes 0. Hence, we have represented the same concept as above in a single equation. The same equation can also be obtained by the principle of __Maximum Likelihood Estimation__. "
   ]
  },
  {
   "cell_type": "code",
   "execution_count": 5,
   "metadata": {},
   "outputs": [
    {
     "data": {
      "image/png": "[encoded data removed]",
      "text/plain": [
       "<Figure size 576x432 with 1 Axes>"
      ]
     },
     "metadata": {
      "needs_background": "light"
     },
     "output_type": "display_data"
    }
   ],
   "source": [
    "X = np.arange(-5, 5, 0.01)\n",
    "fig = plt.figure(figsize=(8, 6))\n",
    "plt.plot(sigmoid(X), -np.log(sigmoid(X)), label='Log(X)', c='blue', linewidth=3)\n",
    "plt.legend()\n",
    "plt.xlabel('Sigmoid(X)')\n",
    "plt.grid(True)\n",
    "plt.ylabel('Log(Sigmoid(X))')\n",
    "plt.title('Plot for y = 1')\n",
    "plt.axhline(y=0, color='k')\n",
    "plt.axvline(x=0, color='k')\n",
    "plt.show()"
   ]
  },
  {
   "cell_type": "code",
   "execution_count": 6,
   "metadata": {},
   "outputs": [
    {
     "data": {
      "image/png": "[encoded data removed]",
      "text/plain": [
       "<Figure size 576x432 with 1 Axes>"
      ]
     },
     "metadata": {
      "needs_background": "light"
     },
     "output_type": "display_data"
    }
   ],
   "source": [
    "X = np.arange(-10, 10, 0.01)\n",
    "fig = plt.figure(figsize=(8, 6))\n",
    "plt.plot(sigmoid(X), -np.log(1 - sigmoid(X)), label='Log(Sigmoid(X))', c='blue', linewidth=3)\n",
    "plt.legend(loc='upper left')\n",
    "plt.xlabel('Sigmoid(X)')\n",
    "plt.grid(True)\n",
    "plt.ylabel('-Log(1 - Sigmoid(X))')\n",
    "plt.title('Plot for y = 0')\n",
    "plt.axhline(y=0, color='k')\n",
    "plt.axvline(x=0, color='k')\n",
    "plt.show()"
   ]
  },
  {
   "cell_type": "markdown",
   "metadata": {},
   "source": [
    "## Limitations of Logistic Regression\n",
    "\n",
    "### Linear Classifier\n",
    "Despite using the sigmoid non-linearity, the logistic regression classifier is still a ***linear combination*** of the inputs and hence is a **linear classifier**. The interpretation of this while building a classifier is, the classifier will always be a straight line. \n",
    "\n",
    "## Interpretation of Weights\n",
    "\n",
    "In linear regression we have a simple interpretation. In the equation\n",
    "\n",
    "$$h_{\\theta}\\left(x\\right)=\\theta_0+\\theta_1\\cdot x_1+\\theta_2\\cdot x2+....$$\n",
    "\n",
    "The interpretation of the weight is: the **change in $y$ by a unit change in $x$, given all the other $x$s remain constant**. But this changes a little bit in Logistic Regression. \n",
    "\n",
    "We have:\n",
    "\n",
    "$$ \\ln\\left(\\frac{p}{1-p}\\right)=h_{\\theta}\\left(x\\right)=\\theta_0+\\theta_1\\cdot x_1+...$$\n",
    "\n",
    "In a way we can say that Logistic Regression is linear regression on log-odds. So the interpretations of weights now become: **the amount of increase in log-odds by a unit change in an $x$ given other $x$s remain constant**. \n",
    "\n",
    "## Cost function\n",
    "\n",
    "We've seen that the cost function for logistic regression is:\n",
    "\n",
    "$$\n",
    "J\\left(\\theta\\right)=-\\frac{1}{m}\\sum_{i=0}^m\\left[y^{\\left(i\\right)}\\log\\left(h_{\\theta}\\left(x^{\\left(i\\right)}\\right)\\right)+\\left(1-y^{\\left(i\\right)}\\right)\\log\\left(1-h_{\\theta}\\left(x^{\\left(i\\right)}\\right)\\right)\\right]\n",
    "$$\n",
    "\n",
    "```\n",
    "# From Logistic Regression Class:\n",
    "def cost(self, thetas=None):\n",
    "        if thetas is None:\n",
    "            thetas = self.thetas\n",
    "        dot_prod = self.X.dot(thetas)\n",
    "        dot_prod_pos = dot_prod[self.y == 1]\n",
    "        dot_prod_neg = dot_prod[self.y == 0]\n",
    "        cost = -(1 / self.n_rows) \\\n",
    "               * (np.sum(np.log(self.sigmoid(dot_prod_pos))) \n",
    "                  + np.sum(np.log(1 - self.sigmoid(dot_prod_neg))))\n",
    "        return cost\n",
    "```\n",
    "\n",
    "Where $h_\\theta (x^{(i)})$ is the Sigmoid function. In order to get the update rule we need to differentiate this. Firstly, we know that\n",
    "\n",
    "$$\\frac{\\partial}{\\partial x} \\sigma(x) =  \\sigma(x) \\cdot (1 - \\sigma(x))$$\n",
    "\n",
    "In our case, we want to partial differentiate with respect to our paramters $\\theta$. So we have\n",
    "\n",
    "$$\\frac{\\partial }{\\partial \\theta }\\sigma \\left(f\\right)=\\sigma \\left(f\\right)\\cdot \\left(1-\\sigma \\left(f\\right)\\right)\\frac{\\partial }{\\partial \\theta }f$$\n",
    "\n",
    "Where, \n",
    "$$f = \\left(\\theta_0+\\theta_1x\\right)$$\n",
    "\n",
    "Hence, \n",
    "$$\\frac{\\partial}{\\partial\\theta_0}f=1$$\n",
    "And,\n",
    "$$\\frac{\\partial}{\\partial\\theta_1}f=x$$\n",
    "\n",
    "But since we can append ones in our input matrix, we can simply replace $x_j$ as 1 in our equation to make life easier, \n",
    "\n",
    "$$\\frac{\\partial }{\\partial \\theta _j}\\sigma \\left(x\\right)=\\sigma \\left(x\\right)\\cdot \\left(1-\\sigma \\left(x\\right)\\right)x_j)$$\n",
    "\n",
    "Where $x_j$ will be 1 for $\\theta_0$"
   ]
  },
  {
   "cell_type": "markdown",
   "metadata": {},
   "source": [
    "### Differentiating the negative likelihood\n",
    "\n",
    "The way we chose to represent our cost function (by taking logs) is called as negative log likelihood. We'll differentiate it now to obtain the update rule\n",
    "\n",
    "\n",
    "$\n",
    "\\begin{align}\n",
    "\\frac{\\partial}{\\partial \\theta}J(\\theta) &= \\frac{\\partial}{\\partial \\theta} \\left[- \\frac{1}{m}\\sum_{i=0}^m [y^{(i)}\\log (h_\\theta (x^{(i)})) + (1 - y^{(i)})\\log (1 - h_\\theta(x^{(i)}))] \\right] \\\\\n",
    "&= -\\frac{1}{m}\\sum_{i=0}^m\\left[\\frac{\\partial}{\\partial\\theta}y^{\\left(i\\right)}\\log\\left(h_{\\theta}\\left(x^{\\left(i\\right)}\\right)\\right)+\\frac{\\partial}{\\partial\\theta}\\left(\\left(1-y^{\\left(i\\right)}\\right)\\log\\left(1-h_{\\theta}\\left(x^{\\left(i\\right)}\\right)\\right)\\right)\\right] \\\\\n",
    "&= -\\frac{1}{m}\\sum_{i=0}^m\\left[\\frac{y^{\\left(i\\right)}}{h_{\\theta}\\left(x^{\\left(i\\right)}\\right)}\\frac{\\partial}{\\partial\\theta}h_{\\theta}\\left(x^{\\left(i\\right)}\\right)+\\frac{1-y^{\\left(i\\right)}}{1-h_{\\theta}\\left(x^{\\left(i\\right)}\\right)}\\frac{\\partial}{\\partial\\theta}\\left(-h_{\\theta}\\left(x^{\\left(i\\right)}\\right)\\right)\\right] \\\\\n",
    "\\text{Replacing h with sigma} \\\\\n",
    "&= -\\frac{1}{m}\\sum_{i=0}^m\\left[\\frac{y^{\\left(i\\right)}}{\\sigma\\left(x^{\\left(i\\right)}\\right)}\\frac{\\partial}{\\partial\\theta}\\sigma\\left(x^{\\left(i\\right)}\\right)+\\frac{1-y^{\\left(i\\right)}}{1-\\sigma\\left(x^{\\left(i\\right)}\\right)}\\frac{\\partial}{\\partial\\theta}\\left(-\\sigma\\left(x^{\\left(i\\right)}\\right)\\right)\\right]\\\\\n",
    "\\text{Take the minus sign out} \\\\\n",
    "&= -\\frac{1}{m}\\sum_{i=0}^m\\left[\\frac{y^{\\left(i\\right)}}{\\sigma\\left(x^{\\left(i\\right)}\\right)}\\frac{\\partial}{\\partial\\theta}\\sigma\\left(x^{\\left(i\\right)}\\right)-\\frac{1-y^{\\left(i\\right)}}{1-\\sigma\\left(x^{\\left(i\\right)}\\right)}\\frac{\\partial}{\\partial\\theta}\\sigma\\left(x^{\\left(i\\right)}\\right)\\right] \\\\\n",
    "\\text{Take sigma common} \\\\\n",
    "&= -\\frac{1}{m}\\sum_{i=0}^m\\left[\\left(\\frac{y^{\\left(i\\right)}}{\\sigma\\left(x^{\\left(i\\right)}\\right)}-\\frac{1-y^{\\left(i\\right)}}{1-\\sigma\\left(x^{\\left(i\\right)}\\right)}\\right)\\frac{\\partial}{\\partial\\theta}\\sigma\\left(x^{\\left(i\\right)}\\right)\\right] \\\\\n",
    "&= -\\frac{1}{m}\\sum_{i=0}^m\\left[\\left(\\frac{y^{\\left(i\\right)}-y^{\\left(i\\right)}\\cdot\\sigma\\left(x^{\\left(i\\right)}\\right)-\\sigma\\left(x^{\\left(i\\right)}\\right)+y^{\\left(i\\right)}\\cdot\\sigma\\left(x^{\\left(i\\right)}\\right)}{\\sigma\\left(x^{\\left(i\\right)}\\right)\\cdot\\left(1-\\sigma\\left(x^{\\left(i\\right)}\\right)\\right)}\\right)\\frac{\\partial}{\\partial\\theta}\\sigma\\left(x^{\\left(i\\right)}\\right)\\right] \\\\\n",
    "\\text{Cancel positive and negative terms} \\\\\n",
    "&= -\\frac{1}{m}\\sum_{i=0}^m\\left[\\left(\\frac{y^{\\left(i\\right)}-\\sigma\\left(x^{\\left(i\\right)}\\right)}{\\sigma\\left(x^{\\left(i\\right)}\\right)\\cdot\\left(1-\\sigma\\left(x^{\\left(i\\right)}\\right)\\right)}\\right)\\frac{\\partial}{\\partial\\theta}\\sigma\\left(x^{\\left(i\\right)}\\right)\\right] \\\\\n",
    "\\text{We know the gradient of sigma} \\\\\n",
    "&=  -\\frac{1}{m}\\sum_{i=0}^m\\left[\\frac{y^{\\left(i\\right)}-\\sigma\\left(x^{\\left(i\\right)}\\right)}{\\sigma\\left(x^{\\left(i\\right)}\\right)\\cdot\\left(1-\\sigma\\left(x^{\\left(i\\right)}\\right)\\right)}\\cdot\\sigma\\left(x^{\\left(i\\right)}\\right)\\cdot\\left(1-\\sigma\\left(x^{\\left(i\\right)}\\right)\\right)x^{\\left(i\\right)}_{j}\\right] \\\\\n",
    "\\text{Numerator and Denominator cancel out!} \\\\\n",
    "&= -\\frac{1}{m}\\sum_{i=0}^m\\left(y^{\\left(i\\right)}-\\sigma\\left(x^{\\left(i\\right)}\\right)\\right)x_j^{\\left(i\\right)} \\\\\n",
    "&= \\frac{1}{m}\\sum_{i=0}^m\n",
    "\\left(\\sigma (x^{\\left(i\\right)})-y^{\\left(i\\right)}\\right)x_j^{\\left(i\\right)} \\\\\n",
    "\\end{align} \\\\\n",
    "$\n",
    "\n",
    "```\n",
    "def batch_gradient(self, thetas=None):\n",
    "        if thetas is None:\n",
    "            thetas = self.thetas\n",
    "        h = self.sigmoid(self.X.dot(thetas)) - self.y\n",
    "        h = np.multiply(self.X, h.reshape(-1, 1))\n",
    "        h = np.sum(h, axis=0)\n",
    "        return h\n",
    "```\n",
    "## Update Rule for thetas\n",
    "\n",
    "Taking the negative sign inside in the last equation, we have our update rule\n",
    "\n",
    "### $\\begin{align*} & Repeat \\; \\lbrace \\newline & \\; \\theta_j := \\theta_j - \\frac{\\alpha}{m} \\sum_{i=1}^m (h_\\theta(x^{(i)}) - y^{(i)}) x_j^{(i)} \\newline & \\rbrace \\end{align*}$"
   ]
  },
  {
   "cell_type": "code",
   "execution_count": null,
   "metadata": {},
   "outputs": [],
   "source": []
  },
  {
   "cell_type": "code",
   "execution_count": 7,
   "metadata": {},
   "outputs": [
    {
     "data": {
      "text/html": [
       "<div>\n",
       "<style scoped>\n",
       "    .dataframe tbody tr th:only-of-type {\n",
       "        vertical-align: middle;\n",
       "    }\n",
       "\n",
       "    .dataframe tbody tr th {\n",
       "        vertical-align: top;\n",
       "    }\n",
       "\n",
       "    .dataframe thead th {\n",
       "        text-align: right;\n",
       "    }\n",
       "</style>\n",
       "<table border=\"1\" class=\"dataframe\">\n",
       "  <thead>\n",
       "    <tr style=\"text-align: right;\">\n",
       "      <th></th>\n",
       "      <th>exam1</th>\n",
       "      <th>exam2</th>\n",
       "      <th>y</th>\n",
       "    </tr>\n",
       "  </thead>\n",
       "  <tbody>\n",
       "    <tr>\n",
       "      <th>0</th>\n",
       "      <td>34.623660</td>\n",
       "      <td>78.024693</td>\n",
       "      <td>0</td>\n",
       "    </tr>\n",
       "    <tr>\n",
       "      <th>1</th>\n",
       "      <td>30.286711</td>\n",
       "      <td>43.894998</td>\n",
       "      <td>0</td>\n",
       "    </tr>\n",
       "    <tr>\n",
       "      <th>2</th>\n",
       "      <td>35.847409</td>\n",
       "      <td>72.902198</td>\n",
       "      <td>0</td>\n",
       "    </tr>\n",
       "    <tr>\n",
       "      <th>3</th>\n",
       "      <td>60.182599</td>\n",
       "      <td>86.308552</td>\n",
       "      <td>1</td>\n",
       "    </tr>\n",
       "    <tr>\n",
       "      <th>4</th>\n",
       "      <td>79.032736</td>\n",
       "      <td>75.344376</td>\n",
       "      <td>1</td>\n",
       "    </tr>\n",
       "  </tbody>\n",
       "</table>\n",
       "</div>"
      ],
      "text/plain": [
       "       exam1      exam2  y\n",
       "0  34.623660  78.024693  0\n",
       "1  30.286711  43.894998  0\n",
       "2  35.847409  72.902198  0\n",
       "3  60.182599  86.308552  1\n",
       "4  79.032736  75.344376  1"
      ]
     },
     "execution_count": 7,
     "metadata": {},
     "output_type": "execute_result"
    }
   ],
   "source": [
    "from __future__ import division\n",
    "import numpy as np\n",
    "import matplotlib.pyplot as plt\n",
    "import pandas as pd\n",
    "\n",
    "from scipy.optimize import minimize\n",
    "\n",
    "df = pd.read_csv('data/ml-ex2/ex2data1.csv', header=None)\n",
    "df.rename(columns={0: 'exam1', 1: 'exam2', 2: 'y'}, inplace=True)\n",
    "df.head()"
   ]
  },
  {
   "cell_type": "code",
   "execution_count": 8,
   "metadata": {},
   "outputs": [
    {
     "data": {
      "image/png": "[encoded data removed]",
      "text/plain": [
       "<Figure size 864x576 with 1 Axes>"
      ]
     },
     "metadata": {
      "needs_background": "light"
     },
     "output_type": "display_data"
    }
   ],
   "source": [
    "fig = plt.figure(figsize=(12, 8))\n",
    "plt.scatter(df[df['y'] == 0]['exam1'], df[df['y'] == 0]['exam2'],\n",
    "            label='Not admitted', color='yellow', edgecolor='black')\n",
    "plt.scatter(df[df['y'] == 1]['exam1'], df[df['y'] == 1]['exam2'],\n",
    "            label='Admitted', marker='+', color='black')\n",
    "plt.xlabel('Exam 1 score')\n",
    "plt.ylabel('Exam 2 score')\n",
    "plt.legend(loc='upper right')\n",
    "plt.title('Scores indicating admission')\n",
    "plt.show()"
   ]
  },
  {
   "cell_type": "code",
   "execution_count": 10,
   "metadata": {},
   "outputs": [],
   "source": [
    "class LogisticRegression(object):\n",
    "    def __init__(self, X, y, alpha=0.001, n_iterations=5000):\n",
    "        self.X = self._hstack_one(X)\n",
    "        self.y = y\n",
    "        self.thetas = np.zeros((self.X.shape[1]))\n",
    "        self.n_rows = self.X.shape[0]\n",
    "        self.alpha = alpha\n",
    "        self.n_iterations = n_iterations\n",
    "        print(\"Cost before fitting: {0:.4f}\".format(self.cost()))\n",
    "\n",
    "    @staticmethod\n",
    "    def _hstack_one(input_matrix):\n",
    "        if len(input_matrix.shape) == 1:\n",
    "            return np.hstack((np.array([1]), input_matrix))\n",
    "        else:\n",
    "            return np.hstack(\n",
    "                (np.ones((input_matrix.shape[0], 1)), input_matrix))\n",
    "\n",
    "    @staticmethod\n",
    "    def sigmoid(X):\n",
    "        return 1 / (1 + np.exp(-X))\n",
    "\n",
    "    def cost(self, thetas=None):\n",
    "        if thetas is None:\n",
    "            thetas = self.thetas\n",
    "        dot_prod = self.X.dot(thetas)\n",
    "        dot_prod_pos = dot_prod[self.y == 1]\n",
    "        dot_prod_neg = dot_prod[self.y == 0]\n",
    "        cost = -(1 / self.n_rows) \\\n",
    "               * (np.sum(np.log(self.sigmoid(dot_prod_pos))) \n",
    "                  + np.sum(np.log(1 - self.sigmoid(dot_prod_neg))))\n",
    "        return cost\n",
    "\n",
    "    def predict(self, new_X, threshold=0.5):\n",
    "        assert new_X.shape[0] != self.X.shape[1], \\\n",
    "            \"Number of features don't match. {0} != {1}\"\\\n",
    "                .format(new_X.shape[1], self.X.shape[1])\n",
    "        new_X = self._hstack_one(new_X)\n",
    "        h = new_X.dot(self.thetas)\n",
    "        return self.sigmoid(h) >= threshold\n",
    "\n",
    "    def batch_gradient(self, thetas=None):\n",
    "        if thetas is None:\n",
    "            thetas = self.thetas\n",
    "        h = self.sigmoid(self.X.dot(thetas)) - self.y\n",
    "        h = np.multiply(self.X, h.reshape(-1, 1))\n",
    "        h = np.sum(h, axis=0)\n",
    "        return h\n",
    "\n",
    "    def batch_gradient_descent(self, ):\n",
    "        alpha_by_m = self.alpha / self.n_rows\n",
    "        for i in range(self.n_iterations):\n",
    "            self.thetas = self.thetas - (alpha_by_m * self.batch_gradient())\n",
    "            cost = self.cost()\n",
    "            print(\"\\rIteration: {0} Loss: {1:.5f}\".format(i + 1, cost) + \"\")\n",
    "        print()\n",
    "\n",
    "    def scipy_optimize(self, ):\n",
    "        result = minimize(self.cost, self.thetas, jac=self.batch_gradient,\n",
    "                          options={'maxiter': self.n_iterations})\n",
    "        print(result)\n",
    "        self.thetas = result.x"
   ]
  },
  {
   "cell_type": "code",
   "execution_count": 13,
   "metadata": {
    "scrolled": true
   },
   "outputs": [
    {
     "name": "stdout",
     "output_type": "stream",
     "text": [
      "Cost before fitting: 0.6931\n",
      "      fun: 0.20349770159874742\n",
      " hess_inv: array([[ 2.06183487e+01, -1.67128121e-01, -1.79205409e-01],\n",
      "       [-1.67128121e-01,  1.42507960e-03,  1.38926151e-03],\n",
      "       [-1.79205409e-01,  1.38926151e-03,  1.62897968e-03]])\n",
      "      jac: array([-3.49236922e-07, -2.25163939e-05, -2.39118286e-05])\n",
      "  message: 'Desired error not necessarily achieved due to precision loss.'\n",
      "     nfev: 327\n",
      "      nit: 78\n",
      "     njev: 310\n",
      "   status: 2\n",
      "  success: False\n",
      "        x: array([-25.16133275,   0.20623171,   0.20147159])\n",
      "Cost after converging: 0.203\n"
     ]
    },
    {
     "name": "stderr",
     "output_type": "stream",
     "text": [
      "/Users/sadeed/opt/anaconda3/envs/my37env/lib/python3.7/site-packages/ipykernel_launcher.py:31: RuntimeWarning: divide by zero encountered in log\n",
      "/Users/sadeed/opt/anaconda3/envs/my37env/lib/python3.7/site-packages/ipykernel_launcher.py:31: RuntimeWarning: divide by zero encountered in log\n"
     ]
    }
   ],
   "source": [
    "model = LogisticRegression(df[['exam1', 'exam2']].values, df['y'].values, n_iterations=20000, alpha=0.001)\n",
    "optim_theta = model.scipy_optimize()\n",
    "print(\"Cost after converging: {0:.3f}\".format(model.cost()))"
   ]
  },
  {
   "cell_type": "code",
   "execution_count": 14,
   "metadata": {},
   "outputs": [
    {
     "data": {
      "image/png": "[encoded data removed]",
      "text/plain": [
       "<Figure size 864x576 with 1 Axes>"
      ]
     },
     "metadata": {
      "needs_background": "light"
     },
     "output_type": "display_data"
    }
   ],
   "source": [
    "# Plotting the prediction line\n",
    "col1 = \"exam1\"\n",
    "col2 = \"exam2\"\n",
    "min_ex1 = df[col1].min()\n",
    "max_ex1 = df[col1].max()\n",
    "\n",
    "min_ex2 = df[col2].min()\n",
    "max_ex2 = df[col2].max()\n",
    "\n",
    "arange_step = 0.1\n",
    "\n",
    "xx, yy = np.meshgrid(np.arange(min_ex1, max_ex1, arange_step), \n",
    "                     np.arange(min_ex2, max_ex2, arange_step))\n",
    "preds = np.c_[xx.ravel(), yy.ravel()]\n",
    "preds = model.predict(preds)\n",
    "preds = preds.reshape(xx.shape)\n",
    "fig = plt.figure(figsize=(12, 8))\n",
    "plt.scatter(df[df['y'] == 0][col1], df[df['y'] == 0][col2],\n",
    "            label='Not admitted', color='yellow', edgecolor='black')\n",
    "plt.scatter(df[df['y'] == 1][col1], df[df['y'] == 1][col2],\n",
    "            label='Admitted', marker='+', color='black')\n",
    "plt.contour(xx, yy, preds, colors='blue')\n",
    "plt.xlabel('Exam 1 score')\n",
    "plt.ylabel('Exam 2 score')\n",
    "plt.legend(loc='upper right')\n",
    "plt.title('Scores indicating admission')\n",
    "plt.show()"
   ]
  },
  {
   "cell_type": "code",
   "execution_count": null,
   "metadata": {},
   "outputs": [],
   "source": []
  },
  {
   "cell_type": "code",
   "execution_count": null,
   "metadata": {},
   "outputs": [],
   "source": []
  },
  {
   "cell_type": "code",
   "execution_count": null,
   "metadata": {},
   "outputs": [],
   "source": []
  },
  {
   "cell_type": "markdown",
   "metadata": {},
   "source": [
    "## Regularization\n",
    "\n",
    "Machine Learning models sometimes fit the data too well. This causes a problem because the model won't generalize well with real world data. Consider the following\n",
    "\n",
    "<img \n",
    "src=\"https://raw.githubusercontent.com/alexeygrigorev/wiki-figures/master/ufrt/kddm/overfitting-logreg-ex.png\" \n",
    "/>\n",
    "\n",
    "The $R^2$ value, a commonly used measure to evaluate models, will clearly be high for the model since the data fits very good and the user will be tricked into believing that the mode is perfect but in reality the model is very bad and won't work with unseen data. \n",
    "\n",
    "A way to deal with the problem is to use Regularization. There are multiple ways to use Regularization, we'll see that in the following posts.  \n",
    "\n",
    "Furthermore, Regularization also helps to solve the Bais-Variance tradeoff. \n",
    "\n",
    "Source: [ML Coursera](https://www.google.co.in/url?sa=t&rct=j&q=&esrc=s&source=web&cd=1&cad=rja&uact=8&ved=0ahUKEwjugomJysPYAhUQ4o8KHcqwCs8QFgg-MAA&url=https%3A%2F%2Fwww.coursera.org%2Flearn%2Fmachine-learning&usg=AOvVaw2zgTKaHlTbWua1rRu2TcP9)"
   ]
  },
  {
   "cell_type": "markdown",
   "metadata": {},
   "source": [
    "## Norms\n",
    "\n",
    "Norm is nothing but a way to measure distance between two vectors. Generally, it's used to measure the distance between the origin and vector. There are many forms of Norms, but for our purposes, we'll use $L_1$ and $L_2$ norm. \n",
    "\n",
    "### $L_1$ Norm or Mean Absolute Error\n",
    "\n",
    "Consider a vector x = \\[B1 B2\\] Then the $L_1$ norm is simply the addition of the two numbers inside it. \n",
    "\n",
    "Mathematically, $L_1$ Norm is denoted by the following equation\n",
    "\n",
    "### $$\\lVert x \\rVert_1=\\sum_{i=0}^n\\left|x_i\\right|$$\n",
    "\n",
    "### $L_2$ Norm or Root Mean Squared Error\n",
    "\n",
    "The only difference in the $L_2$ norm is we take the addition of the squares of all the numbers and take its square root. \n",
    "\n",
    "Mathematically, $L_2$ Norm is denoted by the following equation\n",
    "\n",
    "### $$\\lVert x \\rVert_2 = \\sqrt{\\sum_{i=0}^nx_i^2}$$\n",
    "\n",
    "\n",
    "### Example\n",
    "Consider a vector\n",
    "$$\n",
    "x =\n",
    "    \\begin{bmatrix}\n",
    "    \\beta_0 \\\\\n",
    "    \\beta_1\n",
    "    \\end{bmatrix}\n",
    "$$\n",
    "\n",
    "Then $L_1$ norm will be\n",
    "$$\\lVert x \\rVert_1= \\beta_0 + \\beta_1$$\n",
    "\n",
    "And $L_2$ norm will be\n",
    "$$\\lVert x \\rVert_1= \\sqrt{\\beta_0^2+\\beta_1^2}$$\n",
    "\n",
    "Graphically, if you plot the vector considering $\\beta_0$ as x-coordinate and $\\beta_1 $as y coordinate. Then $L_1$ norm is simply the addition of the two sides of the traingles formed and $L_2$ is the hypotenuse. The drawing below will make it clear (excuse my poor handwriting :))\n",
    "\n",
    "\n",
    "<img src=\"images/vector_norm.png\" height=300 width=500/>"
   ]
  },
  {
   "cell_type": "markdown",
   "metadata": {},
   "source": [
    "## Adding Regulariaztion Parameter\n",
    "\n",
    "Consider the cost function of Logistic Regression from the previous post which is given by\n",
    "\n",
    "$$\n",
    "J\\left(\\theta\\right)=-\\frac{1}{m}\\sum_{i=0}^m\\left[y^{\\left(i\\right)}\\log\\left(h_{\\theta}\\left(x^{\\left(i\\right)}\\right)\\right)+\\left(1-y^{\\left(i\\right)}\\right)\\log\\left(1-h_{\\theta}\\left(x^{\\left(i\\right)}\\right)\\right)\\right]\n",
    "$$\n",
    "\n",
    "We add the term  $\\lambda \\lVert \\theta \\rVert_2 ^2$ to it, where $\\lambda$ is a constant that user gets to decide. It's also called as __Regularization Parameter__. Mathematically, it's a Lagrange multiplier that's minimising the cost function $J\\left(\\theta\\right)$.\n",
    "\n",
    "Adding the $\\lambda$ term to the equation makes the cost function for Logistic Regression as:\n",
    "\n",
    "$$J\\left(\\theta\\right)=-\\frac{1}{m}\\sum_{i=0}^m\\left[y^{\\left(i\\right)}\\log\\left(h_{\\theta}\\left(x^{\\left(i\\right)}\\right)\\right)+\\left(1-y^{\\left(i\\right)}\\right)\\log\\left(1-h_{\\theta}\\left(x^{\\left(i\\right)}\\right)\\right)\\right] + \n",
    "\\lambda \\lVert \\theta \\rVert_2 ^2$$\n",
    "\n",
    "Note the notation we used, the 2 at the bottom of $\\theta$ indicates that's a $L_2$ norm, hence, technically we're using Ridge Regression (We'll see shortly what it is). Normally this piece of notation is ignored since whenever we indicate norm we're almost always using the $L_2$ norm and not the $L_1$ one. But we'll be explicit about it since it's the subtle difference between Ridge and Lasso Regression. \n",
    "\n",
    "#### Note:\n",
    "If $\\lambda$ is:\n",
    "1. __too high__: The values will be heavily penalized and __underfitting__ will occur. \n",
    "2. __too low__: There'll be no regularization, we'll be where we started from and the model will __overfit__. \n",
    "\n"
   ]
  },
  {
   "cell_type": "markdown",
   "metadata": {},
   "source": [
    "## Types of Regularization\n",
    "\n",
    "Two types of Regularization we'll see are Ridge, and LASSO. \n",
    "\n",
    "### 1. Ridge\n",
    "Notice how in the above equation we used $L_2$ norm. That's the key point of Ridge Regularization. \n",
    "\n",
    "### 2. LASSO (Least Absolute Shrinkage and Selection Operator)\n",
    "Here instead of the $L_2$ norm, we take $L_1$ norm. This type of regularization is rarely used. \n",
    "\n",
    "### 3. ElasticNet\n",
    "This combines both Ridge and LASSO hence uses both $L_1$ and $L_2$ norms. "
   ]
  },
  {
   "cell_type": "markdown",
   "metadata": {},
   "source": [
    "## When to use $L_1$ (MAE) vs $L_2$ (RMSE) \n",
    "\n",
    "Since RMSE squares the differences this has the effect of penalizing large errors more than lower errors. For instance penalizing an error of 10 is __more than twice__ than penalizing the error of 5. \n",
    "\n",
    "But in the case of MAE penalizing an error of 10 is __twice__ the penalizing the error of 5. Hence whenever you want to penalizing linearly you ought to choose MAE over RMSE else the other way around. "
   ]
  },
  {
   "cell_type": "code",
   "execution_count": null,
   "metadata": {},
   "outputs": [],
   "source": []
  },
  {
   "cell_type": "code",
   "execution_count": null,
   "metadata": {},
   "outputs": [],
   "source": [
    "    "
   ]
  },
  {
   "cell_type": "code",
   "execution_count": null,
   "metadata": {},
   "outputs": [],
   "source": []
  },
  {
   "cell_type": "code",
   "execution_count": null,
   "metadata": {},
   "outputs": [],
   "source": []
  },
  {
   "cell_type": "code",
   "execution_count": null,
   "metadata": {},
   "outputs": [],
   "source": []
  },
  {
   "cell_type": "code",
   "execution_count": null,
   "metadata": {},
   "outputs": [],
   "source": []
  },
  {
   "cell_type": "code",
   "execution_count": null,
   "metadata": {},
   "outputs": [],
   "source": []
  },
  {
   "cell_type": "code",
   "execution_count": null,
   "metadata": {},
   "outputs": [],
   "source": []
  },
  {
   "cell_type": "markdown",
   "metadata": {},
   "source": [
    "## Polynomial Regression\n",
    "\n",
    "Polynomial Regression is the same as Linear Regression but we're adding polynomial features to the dataset. For instance if we have two features $x_1$, and $x_2$. We'll add $x_1^2$, $x_2^2$, $x_1x_2$, $x_1^3$ and so on. Adding these features will give us a non-linear fit, i.e. a boundary that's not simple plain line. "
   ]
  },
  {
   "cell_type": "code",
   "execution_count": 1,
   "metadata": {},
   "outputs": [
    {
     "data": {
      "text/html": [
       "<div>\n",
       "<style>\n",
       "    .dataframe thead tr:only-child th {\n",
       "        text-align: right;\n",
       "    }\n",
       "\n",
       "    .dataframe thead th {\n",
       "        text-align: left;\n",
       "    }\n",
       "\n",
       "    .dataframe tbody tr th {\n",
       "        vertical-align: top;\n",
       "    }\n",
       "</style>\n",
       "<table border=\"1\" class=\"dataframe\">\n",
       "  <thead>\n",
       "    <tr style=\"text-align: right;\">\n",
       "      <th></th>\n",
       "      <th>chip1</th>\n",
       "      <th>chip2</th>\n",
       "      <th>y</th>\n",
       "    </tr>\n",
       "  </thead>\n",
       "  <tbody>\n",
       "    <tr>\n",
       "      <th>0</th>\n",
       "      <td>0.051267</td>\n",
       "      <td>0.69956</td>\n",
       "      <td>1</td>\n",
       "    </tr>\n",
       "    <tr>\n",
       "      <th>1</th>\n",
       "      <td>-0.092742</td>\n",
       "      <td>0.68494</td>\n",
       "      <td>1</td>\n",
       "    </tr>\n",
       "    <tr>\n",
       "      <th>2</th>\n",
       "      <td>-0.213710</td>\n",
       "      <td>0.69225</td>\n",
       "      <td>1</td>\n",
       "    </tr>\n",
       "    <tr>\n",
       "      <th>3</th>\n",
       "      <td>-0.375000</td>\n",
       "      <td>0.50219</td>\n",
       "      <td>1</td>\n",
       "    </tr>\n",
       "    <tr>\n",
       "      <th>4</th>\n",
       "      <td>-0.513250</td>\n",
       "      <td>0.46564</td>\n",
       "      <td>1</td>\n",
       "    </tr>\n",
       "  </tbody>\n",
       "</table>\n",
       "</div>"
      ],
      "text/plain": [
       "      chip1    chip2  y\n",
       "0  0.051267  0.69956  1\n",
       "1 -0.092742  0.68494  1\n",
       "2 -0.213710  0.69225  1\n",
       "3 -0.375000  0.50219  1\n",
       "4 -0.513250  0.46564  1"
      ]
     },
     "execution_count": 1,
     "metadata": {},
     "output_type": "execute_result"
    }
   ],
   "source": [
    "from __future__ import division\n",
    "import numpy as np\n",
    "import matplotlib.pyplot as plt\n",
    "import pandas as pd\n",
    "\n",
    "from scipy.optimize import minimize\n",
    "\n",
    "df = pd.read_csv('machine_learning_andrewng/ex2data2.csv', header=None)\n",
    "df.rename(columns={0: 'chip1', 1: 'chip2', 2: 'y'}, inplace=True)\n",
    "df.head()"
   ]
  },
  {
   "cell_type": "code",
   "execution_count": 2,
   "metadata": {},
   "outputs": [
    {
     "data": {
      "image/png": "[encoded data removed]",
      "text/plain": [
       "<matplotlib.figure.Figure at 0x7efbb8f8bcd0>"
      ]
     },
     "metadata": {},
     "output_type": "display_data"
    }
   ],
   "source": [
    "fig = plt.figure(figsize=(12, 8))\n",
    "plt.scatter(df[df['y'] == 0]['chip1'], df[df['y'] == 0]['chip2'],\n",
    "            label='Test Failed', color='yellow', edgecolor='black')\n",
    "plt.scatter(df[df['y'] == 1]['chip1'], df[df['y'] == 1]['chip2'],\n",
    "            label='Test Passed', marker='+', color='black')\n",
    "plt.xlabel('Microchip Test 1')\n",
    "plt.ylabel('Microchip Test 2')\n",
    "plt.legend(loc='upper right')\n",
    "plt.title('Testing whether the Microchip will be accepted')\n",
    "plt.show()"
   ]
  },
  {
   "cell_type": "code",
   "execution_count": 4,
   "metadata": {},
   "outputs": [],
   "source": [
    "class LogisticRegression(object):\n",
    "    def __init__(self, X, y, alpha=0.001, n_iterations=5000,\n",
    "                 lambda_param=0, verbose=True):\n",
    "        self.y = self._handle_data_type(y)\n",
    "        self.X = self._handle_data_type(X)\n",
    "        self.X = self._hstack_one(X)\n",
    "        self.thetas = np.zeros((self.X.shape[1]))\n",
    "        self.n_rows = self.X.shape[0]\n",
    "        self.n_features = self.thetas.shape[0]\n",
    "        self.alpha = alpha\n",
    "        self.n_iterations = n_iterations\n",
    "        self.lambda_param = lambda_param\n",
    "        if verbose:\n",
    "            print \"Number of features: {0}\".format(self.n_features - 1)\n",
    "            print \"Cost before fitting: {0:.4f}\".format(self.cost())\n",
    "    \n",
    "    @staticmethod\n",
    "    def _handle_data_type(new_X):\n",
    "        return new_X\n",
    "    \n",
    "    @staticmethod\n",
    "    def _hstack_one(input_matrix):\n",
    "        if len(input_matrix.shape) == 1:\n",
    "            return np.hstack((np.array([1]), input_matrix))\n",
    "        else:\n",
    "            return np.hstack((np.ones((input_matrix.shape[0], 1)), input_matrix))\n",
    "        \n",
    "    @staticmethod\n",
    "    def sigmoid(X):\n",
    "        return 1/(1 + np.exp(-X))\n",
    "        \n",
    "    def cost(self, thetas=None):\n",
    "        if thetas is None:\n",
    "            thetas = self.thetas\n",
    "        dot_prod = self.X.dot(thetas)\n",
    "        dot_prod_pos = dot_prod[self.y == 1]\n",
    "        dot_prod_neg = dot_prod[self.y == 0]\n",
    "        # TODO: Add limit parameter to prevent\n",
    "        # log underflow\n",
    "        # https://stackoverflow.com/a/47244817/1878563\n",
    "        cost = -(1/self.n_rows) * (np.sum(np.log(self.sigmoid(dot_prod_pos))) \\\n",
    "                                + np.sum(np.log(1 - self.sigmoid(dot_prod_neg)))) \\\n",
    "                         + (self.lambda_param/(2*self.n_rows)) \\\n",
    "                     * np.sum(self.thetas[1:]**2)\n",
    "        return cost\n",
    "    \n",
    "    def predict(self, new_X, threshold=0.5):\n",
    "        new_X = self._handle_data_type(new_X)\n",
    "        assert new_X.shape[0] != self.X.shape[1], \\\n",
    "            \"Number of features don't match. {0} != {1}\".format(new_X.shape[1],\n",
    "                                                                self.X.shape[1])\n",
    "        new_X = self._hstack_one(new_X)\n",
    "        h = new_X.dot(self.thetas)\n",
    "        results = self.sigmoid(h) >= threshold\n",
    "        return results\n",
    "    \n",
    "    def batch_gradient(self, thetas=None):\n",
    "        if thetas is None:\n",
    "            thetas = self.thetas\n",
    "        h = self.sigmoid(self.X.dot(thetas)) - self.y\n",
    "        h = np.multiply(self.X, h.reshape(-1, 1))\n",
    "        h = np.sum(h, axis=0)\n",
    "        reg = thetas * self.lambda_param\n",
    "        reg[0] = 0 # don't regularize theta_0\n",
    "        h += reg\n",
    "        return h\n",
    "    \n",
    "    def batch_gradient_descent(self, ):\n",
    "        alpha_by_m = self.alpha/self.n_rows\n",
    "        for i in range(self.n_iterations):\n",
    "            self.thetas = self.thetas - (alpha_by_m * self.batch_gradient())\n",
    "            cost = self.cost()\n",
    "            print \"\\rIteration: {0} Loss: {1:.5f}\".format(i + 1, cost)  + \"\",\n",
    "        print\n",
    "    \n",
    "    def scipy_optimize(self, verbose=True):\n",
    "        result = minimize(self.cost, self.thetas, jac=self.batch_gradient, \n",
    "                          options={'maxiter': self.n_iterations})\n",
    "        if verbose:\n",
    "            print result\n",
    "        self.thetas = result.x"
   ]
  },
  {
   "cell_type": "markdown",
   "metadata": {},
   "source": [
    "### Simple Logistic Regression"
   ]
  },
  {
   "cell_type": "code",
   "execution_count": 19,
   "metadata": {},
   "outputs": [
    {
     "name": "stdout",
     "output_type": "stream",
     "text": [
      "Number of features: 2\n",
      "Cost before fitting: 0.6931\n",
      "      fun: 0.69024112201698\n",
      " hess_inv: array([[ 0.03954989, -0.0116338 , -0.02684334],\n",
      "       [-0.0116338 ,  0.14515993,  0.02196225],\n",
      "       [-0.02684334,  0.02196225,  0.14320469]])\n",
      "      jac: array([ -8.04472319e-06,  -5.74084101e-07,  -1.09410551e-06])\n",
      "  message: 'Optimization terminated successfully.'\n",
      "     nfev: 165\n",
      "      nit: 48\n",
      "     njev: 165\n",
      "   status: 0\n",
      "  success: True\n",
      "        x: array([-0.01418441, -0.30352114, -0.01813174])\n"
     ]
    }
   ],
   "source": [
    "simple_lr = LogisticRegression(df[['chip1', 'chip2']].values, df['y'].values, n_iterations=20000)\n",
    "simple_lr.scipy_optimize()"
   ]
  },
  {
   "cell_type": "code",
   "execution_count": 27,
   "metadata": {},
   "outputs": [
    {
     "data": {
      "image/png": "[encoded data removed]",
      "text/plain": [
       "<matplotlib.figure.Figure at 0x7f0118075750>"
      ]
     },
     "metadata": {},
     "output_type": "display_data"
    }
   ],
   "source": [
    "# Plotting the prediction line\n",
    "def plot(col1, col2, clf):\n",
    "    min_ex1 = df[col1].min()\n",
    "    max_ex1 = df[col1].max()\n",
    "\n",
    "    min_ex2 = df[col2].min()\n",
    "    max_ex2 = df[col2].max()\n",
    "\n",
    "    arange_step = 0.001\n",
    "\n",
    "    xx, yy = np.meshgrid(np.arange(min_ex1, max_ex1, arange_step), \n",
    "                         np.arange(min_ex2, max_ex2, arange_step))\n",
    "    preds = np.c_[xx.ravel(), yy.ravel()]\n",
    "    preds = clf.predict(preds)\n",
    "    preds = preds.reshape(xx.shape)\n",
    "    fig = plt.figure(figsize=(12, 8))\n",
    "    plt.scatter(df[df['y'] == 0][col1], df[df['y'] == 0][col2],\n",
    "                label='Not admitted', color='yellow', edgecolor='black')\n",
    "    plt.scatter(df[df['y'] == 1][col1], df[df['y'] == 1][col2],\n",
    "                label='Admitted', marker='+', color='black')\n",
    "    plt.contour(xx, yy, preds, [0.5], colors='green')\n",
    "    plt.xlabel('Exam 1 score')\n",
    "    plt.ylabel('Exam 2 score')\n",
    "    plt.legend(loc='upper right')\n",
    "    plt.title('Scores indicating admission')\n",
    "    plt.show()\n",
    "    \n",
    "plot(\"chip1\", \"chip2\", simple_lr)"
   ]
  },
  {
   "cell_type": "code",
   "execution_count": 21,
   "metadata": {},
   "outputs": [
    {
     "name": "stdout",
     "output_type": "stream",
     "text": [
      "(118, 27)\n",
      "Number of features: 27\n",
      "Cost before fitting: 0.6931\n",
      "      fun: 0.6802434024711351\n",
      " hess_inv: array([[  4.23984171e-02,  -1.71383426e-02,  -2.38290924e-04,\n",
      "          2.02861892e-02,  -6.47610740e-03,   1.91629457e-02,\n",
      "         -9.82653723e-03,   1.15108124e-03,  -6.28776882e-04,\n",
      "         -9.07568393e-03,   2.63613455e-03,  -2.90371388e-03,\n",
      "          3.82792244e-03,  -2.61956629e-03,  -5.14944483e-03,\n",
      "         -8.39710563e-03,   3.99420393e-05,  -5.48575475e-04,\n",
      "         -5.21552667e-06,  -3.66343522e-04,  -1.59309471e-02,\n",
      "         -3.17290267e-03,  -1.79242705e-03,   1.19858370e-03,\n",
      "         -9.13433031e-04,   4.91298557e-04,  -1.54604264e-03,\n",
      "         -1.54675705e-02],\n",
      "       [ -1.71383426e-02,   5.12692985e-01,  -1.18408858e-01,\n",
      "         -1.82832779e-01,   1.28144257e-01,  -1.17568724e-01,\n",
      "         -2.81545853e-01,   5.64146455e-02,  -4.17312757e-02,\n",
      "          5.04789812e-02,  -5.61753462e-02,   1.09395661e-02,\n",
      "          2.47817442e-02,   2.63464881e-02,   9.62040081e-02,\n",
      "         -1.67300467e-01,   2.86379290e-02,  -2.57017320e-02,\n",
      "          4.07963680e-02,  -3.68366565e-03,   1.10747905e-01,\n",
      "         -4.60633235e-02,  -4.34159081e-03,   1.50750767e-02,\n",
      "         -1.49008320e-03,   3.00698127e-02,   4.25345541e-03,\n",
      "          1.42123198e-01],\n",
      "       [ -2.38290924e-04,  -1.18408858e-01,   3.66686739e-01,\n",
      "          1.22476033e-01,   1.23261542e-01,  -2.40722412e-01,\n",
      "         -3.21352406e-02,  -1.41256691e-02,   3.89491589e-02,\n",
      "         -2.25502895e-01,   1.77374712e-01,   9.51112468e-03,\n",
      "          3.77511336e-02,   3.42226619e-02,  -4.88778790e-02,\n",
      "          3.42701524e-02,   1.07121628e-02,   6.69150884e-03,\n",
      "          8.70742636e-03,   3.49162959e-02,  -8.18391089e-02,\n",
      "          1.50432655e-01,  -1.97601278e-03,   2.97231112e-02,\n",
      "         -8.83236204e-04,   2.36156666e-02,   1.70392837e-02,\n",
      "          3.31260798e-03],\n",
      "       [  2.02861892e-02,  -1.82832779e-01,   1.22476033e-01,\n",
      "          7.36842486e-01,  -3.20572498e-02,  -1.07955527e-01,\n",
      "         -1.40901104e-01,  -5.10800086e-03,  -5.10595506e-02,\n",
      "         -9.78403881e-03,  -1.99199012e-01,  -6.76368027e-03,\n",
      "         -4.71631892e-02,  -1.13199882e-02,  -9.57104886e-02,\n",
      "         -1.28639176e-01,  -9.17831335e-03,  -2.12861046e-02,\n",
      "         -1.02670308e-02,  -2.55215691e-02,  -5.34364089e-02,\n",
      "         -1.59980626e-01,  -4.56397621e-03,  -2.50509281e-02,\n",
      "         -1.61567121e-03,  -2.22587165e-02,  -7.72626153e-03,\n",
      "         -9.25034204e-02],\n",
      "       [ -6.47610740e-03,   1.28144257e-01,   1.23261542e-01,\n",
      "         -3.20572498e-02,   9.32183503e-01,   1.80103896e-02,\n",
      "          5.90652598e-02,  -2.30279239e-02,  -4.49603590e-03,\n",
      "         -1.22123003e-02,  -6.06398420e-02,  -7.24283761e-03,\n",
      "         -2.88712386e-02,  -1.61231206e-02,  -7.06580144e-02,\n",
      "          1.57486923e-02,  -1.50397188e-02,   1.82045876e-03,\n",
      "         -2.00777405e-02,  -9.71093929e-03,  -5.92376564e-02,\n",
      "         -4.88203287e-02,   8.19833547e-05,  -1.65722724e-02,\n",
      "          2.62746178e-05,  -2.10904491e-02,  -5.36001199e-03,\n",
      "         -9.01978945e-02],\n",
      "       [  1.91629457e-02,  -1.17568724e-01,  -2.40722412e-01,\n",
      "         -1.07955527e-01,   1.80103896e-02,   7.96280031e-01,\n",
      "         -7.60101875e-02,  -2.42141801e-02,  -1.08856322e-02,\n",
      "         -1.49149282e-01,  -4.99681043e-02,  -2.38160066e-03,\n",
      "         -2.22591225e-02,   4.92928959e-03,  -1.27375632e-01,\n",
      "         -5.13448049e-02,  -7.37550042e-03,  -8.32326810e-03,\n",
      "         -1.19780431e-02,  -9.38074676e-05,  -1.14627740e-01,\n",
      "         -3.53251078e-02,  -4.00771322e-03,  -6.62872569e-03,\n",
      "         -1.53790370e-03,  -1.09967350e-02,   2.58515479e-03,\n",
      "         -1.04140016e-01],\n",
      "       [ -9.82653723e-03,  -2.81545853e-01,  -3.21352406e-02,\n",
      "         -1.40901104e-01,   5.90652598e-02,  -7.60101875e-02,\n",
      "          8.30846090e-01,   2.84345896e-02,  -3.07964764e-02,\n",
      "          2.72228526e-02,  -6.53478611e-02,   4.35196185e-03,\n",
      "          4.25925455e-03,   1.12118690e-02,   3.39062743e-02,\n",
      "         -1.08892402e-01,   1.30776500e-02,  -1.70059510e-02,\n",
      "          1.91951352e-02,  -6.72091241e-03,   4.90191376e-02,\n",
      "         -5.30998889e-02,  -3.00794830e-03,   3.12194234e-03,\n",
      "         -1.04063540e-03,   1.14176634e-02,   6.46507586e-04,\n",
      "          5.74560150e-02],\n",
      "       [  1.15108124e-03,   5.64146455e-02,  -1.41256691e-02,\n",
      "         -5.10800086e-03,  -2.30279239e-02,  -2.42141801e-02,\n",
      "          2.84345896e-02,   9.84471207e-01,   2.12773691e-03,\n",
      "         -3.84940239e-02,  -1.33904346e-02,  -3.00023552e-03,\n",
      "         -1.22807868e-02,  -4.83752161e-03,  -4.93024284e-02,\n",
      "          1.24230093e-02,  -7.44301758e-03,   1.73042582e-03,\n",
      "         -1.06852071e-02,  -1.16587888e-03,  -4.66132723e-02,\n",
      "         -9.69472376e-03,  -2.75880803e-04,  -5.90375207e-03,\n",
      "         -1.24986518e-04,  -9.35895095e-03,  -8.69802163e-04,\n",
      "         -5.34194078e-02],\n",
      "       [ -6.28776882e-04,  -4.17312757e-02,   3.89491589e-02,\n",
      "         -5.10595506e-02,  -4.49603590e-03,  -1.08856322e-02,\n",
      "         -3.07964764e-02,   2.12773691e-03,   9.89245435e-01,\n",
      "          9.70946681e-03,  -3.87622078e-02,  -9.33783043e-04,\n",
      "         -7.44868951e-03,  -1.97420918e-03,  -8.25782457e-03,\n",
      "         -2.70813756e-02,  -6.17209333e-04,  -4.43536486e-03,\n",
      "         -2.04963718e-04,  -5.30834952e-03,  -1.40281500e-04,\n",
      "         -3.15027074e-02,  -7.67628435e-04,  -4.27157196e-03,\n",
      "         -2.60312904e-04,  -3.00998285e-03,  -1.65076882e-03,\n",
      "         -8.08066189e-03],\n",
      "       [ -9.07568393e-03,   5.04789812e-02,  -2.25502895e-01,\n",
      "         -9.78403881e-03,  -1.22123003e-02,  -1.49149282e-01,\n",
      "          2.72228526e-02,  -3.84940239e-02,   9.70946681e-03,\n",
      "          8.40448890e-01,   8.35202410e-04,  -4.25467175e-03,\n",
      "         -2.05011015e-02,  -4.95220310e-04,  -1.35845832e-01,\n",
      "          1.77706554e-02,  -1.35790432e-02,   2.60103245e-03,\n",
      "         -2.12938591e-02,   5.36464209e-03,  -1.34929487e-01,\n",
      "          5.52440168e-03,  -1.99917820e-03,  -6.31909257e-03,\n",
      "         -8.38089311e-04,  -1.52809809e-02,   2.68667694e-03,\n",
      "         -1.26539281e-01],\n",
      "       [  2.63613455e-03,  -5.61753462e-02,   1.77374712e-01,\n",
      "         -1.99199012e-01,  -6.06398420e-02,  -4.99681043e-02,\n",
      "         -6.53478611e-02,  -1.33904346e-02,  -3.87622078e-02,\n",
      "          8.35202410e-04,   8.27100516e-01,  -8.52718755e-03,\n",
      "         -4.74628781e-02,  -1.72020910e-02,  -9.47359961e-02,\n",
      "         -8.12864341e-02,  -1.38544487e-02,  -1.38705873e-02,\n",
      "         -1.68319475e-02,  -2.37801833e-02,  -5.90806889e-02,\n",
      "         -1.39425586e-01,  -2.93184448e-03,  -2.63636843e-02,\n",
      "         -1.03004441e-03,  -2.62500860e-02,  -8.72357737e-03,\n",
      "         -1.04884596e-01],\n",
      "       [ -2.90371388e-03,   1.09395661e-02,   9.51112468e-03,\n",
      "         -6.76368027e-03,  -7.24283761e-03,  -2.38160066e-03,\n",
      "          4.35196185e-03,  -3.00023552e-03,  -9.33783043e-04,\n",
      "         -4.25467175e-03,  -8.52718755e-03,   9.99124852e-01,\n",
      "         -3.79783490e-03,  -1.72753551e-03,  -1.06466353e-02,\n",
      "          1.28682950e-04,  -1.82948512e-03,  -5.78458258e-05,\n",
      "         -2.47485051e-03,  -1.18343642e-03,  -8.98135085e-03,\n",
      "         -6.78270732e-03,  -9.23430132e-05,  -2.05552783e-03,\n",
      "         -3.51554319e-05,  -2.62325799e-03,  -5.76006339e-04,\n",
      "         -1.23606136e-02],\n",
      "       [  3.82792244e-03,   2.47817442e-02,   3.77511336e-02,\n",
      "         -4.71631892e-02,  -2.88712386e-02,  -2.22591225e-02,\n",
      "          4.25925455e-03,  -1.22807868e-02,  -7.44868951e-03,\n",
      "         -2.05011015e-02,  -4.74628781e-02,  -3.79783490e-03,\n",
      "          9.81776865e-01,  -7.12708412e-03,  -4.99589594e-02,\n",
      "         -9.98826316e-03,  -7.70727310e-03,  -1.96110494e-03,\n",
      "         -1.03214132e-02,  -6.25744812e-03,  -4.02409680e-02,\n",
      "         -3.76807908e-02,  -7.60945137e-04,  -9.67414945e-03,\n",
      "         -2.81927750e-04,  -1.17055225e-02,  -2.62665631e-03,\n",
      "         -5.53715197e-02],\n",
      "       [ -2.61956629e-03,   2.63464881e-02,   3.42226619e-02,\n",
      "         -1.13199882e-02,  -1.61231206e-02,   4.92928959e-03,\n",
      "          1.12118690e-02,  -4.83752161e-03,  -1.97420918e-03,\n",
      "         -4.95220310e-04,  -1.72020910e-02,  -1.72753551e-03,\n",
      "         -7.12708412e-03,   9.96073070e-01,  -1.58264717e-02,\n",
      "          1.43034375e-03,  -3.43384187e-03,   6.13789185e-05,\n",
      "         -4.50496221e-03,  -2.73786423e-03,  -1.25460656e-02,\n",
      "         -1.39267119e-02,  -2.02568918e-05,  -4.14739316e-03,\n",
      "         -5.31590735e-06,  -5.01957415e-03,  -1.41129516e-03,\n",
      "         -2.05050200e-02],\n",
      "       [ -5.14944483e-03,   9.62040081e-02,  -4.88778790e-02,\n",
      "         -9.57104886e-02,  -7.06580144e-02,  -1.27375632e-01,\n",
      "          3.39062743e-02,  -4.93024284e-02,  -8.25782457e-03,\n",
      "         -1.35845832e-01,  -9.47359961e-02,  -1.06466353e-02,\n",
      "         -4.99589594e-02,  -1.58264717e-02,   8.16037319e-01,\n",
      "         -4.57936068e-03,  -2.46048406e-02,  -1.65113757e-03,\n",
      "         -3.48241411e-02,  -9.60658775e-03,  -1.64139451e-01,\n",
      "         -7.24088016e-02,  -2.58498655e-03,  -2.39631821e-02,\n",
      "         -1.02388229e-03,  -3.38110909e-02,  -3.99758140e-03,\n",
      "         -1.91325204e-01],\n",
      "       [ -8.39710563e-03,  -1.67300467e-01,   3.42701524e-02,\n",
      "         -1.28639176e-01,   1.57486923e-02,  -5.13448049e-02,\n",
      "         -1.08892402e-01,   1.24230093e-02,  -2.70813756e-02,\n",
      "          1.77706554e-02,  -8.12864341e-02,   1.28682950e-04,\n",
      "         -9.98826316e-03,   1.43034375e-03,  -4.57936068e-03,\n",
      "          9.19415772e-01,   3.58023177e-03,  -1.28925319e-02,\n",
      "          6.21536697e-03,  -1.00619796e-02,   1.30003588e-02,\n",
      "         -6.58778973e-02,  -2.36959448e-03,  -5.23952910e-03,\n",
      "         -8.22469938e-04,  -5.88170340e-04,  -2.03798630e-03,\n",
      "          5.15043075e-03],\n",
      "       [  3.99420393e-05,   2.86379290e-02,   1.07121628e-02,\n",
      "         -9.17831335e-03,  -1.50397188e-02,  -7.37550042e-03,\n",
      "          1.30776500e-02,  -7.44301758e-03,  -6.17209333e-04,\n",
      "         -1.35790432e-02,  -1.38544487e-02,  -1.82948512e-03,\n",
      "         -7.70727310e-03,  -3.43384187e-03,  -2.46048406e-02,\n",
      "          3.58023177e-03,   9.95897142e-01,   4.05218246e-04,\n",
      "         -5.68142997e-03,  -1.81172976e-03,  -2.18682937e-02,\n",
      "         -1.08064497e-02,  -1.50016639e-04,  -4.03190857e-03,\n",
      "         -6.22679936e-05,  -5.56066645e-03,  -9.71564421e-04,\n",
      "         -2.79479957e-02],\n",
      "       [ -5.48575475e-04,  -2.57017320e-02,   6.69150884e-03,\n",
      "         -2.12861046e-02,   1.82045876e-03,  -8.32326810e-03,\n",
      "         -1.70059510e-02,   1.73042582e-03,  -4.43536486e-03,\n",
      "          2.60103245e-03,  -1.38705873e-02,  -5.78458258e-05,\n",
      "         -1.96110494e-03,   6.13789185e-05,  -1.65113757e-03,\n",
      "         -1.28925319e-02,   4.05218246e-04,   9.97929359e-01,\n",
      "          7.70649415e-04,  -1.73341055e-03,   1.34168318e-03,\n",
      "         -1.12270991e-02,  -3.83812837e-04,  -1.03877920e-03,\n",
      "         -1.32714147e-04,  -3.40802683e-04,  -3.84162251e-04,\n",
      "         -2.64871032e-04],\n",
      "       [ -5.21552667e-06,   4.07963680e-02,   8.70742636e-03,\n",
      "         -1.02670308e-02,  -2.00777405e-02,  -1.19780431e-02,\n",
      "          1.91951352e-02,  -1.06852071e-02,  -2.04963718e-04,\n",
      "         -2.12938591e-02,  -1.68319475e-02,  -2.47485051e-03,\n",
      "         -1.03214132e-02,  -4.50496221e-03,  -3.48241411e-02,\n",
      "          6.21536697e-03,  -5.68142997e-03,   7.70649415e-04,\n",
      "          9.92062253e-01,  -2.10014775e-03,  -3.14995921e-02,\n",
      "         -1.29907450e-02,  -2.02998226e-04,  -5.30690178e-03,\n",
      "         -8.70335464e-05,  -7.55404744e-03,  -1.17973393e-03,\n",
      "         -3.91245205e-02],\n",
      "       [ -3.66343522e-04,  -3.68366565e-03,   3.49162959e-02,\n",
      "         -2.55215691e-02,  -9.71093929e-03,  -9.38074676e-05,\n",
      "         -6.72091241e-03,  -1.16587888e-03,  -5.30834952e-03,\n",
      "          5.36464209e-03,  -2.37801833e-02,  -1.18343642e-03,\n",
      "         -6.25744812e-03,  -2.73786423e-03,  -9.60658775e-03,\n",
      "         -1.00619796e-02,  -1.81172976e-03,  -1.73341055e-03,\n",
      "         -2.10014775e-03,   9.96489527e-01,  -4.79066356e-03,\n",
      "         -1.93502566e-02,  -2.86786435e-04,  -3.67966166e-03,\n",
      "         -9.52104688e-05,  -3.52145390e-03,  -1.38398890e-03,\n",
      "         -1.19755100e-02],\n",
      "       [ -1.59309471e-02,   1.10747905e-01,  -8.18391089e-02,\n",
      "         -5.34364089e-02,  -5.92376564e-02,  -1.14627740e-01,\n",
      "          4.90191376e-02,  -4.66132723e-02,  -1.40281500e-04,\n",
      "         -1.34929487e-01,  -5.90806889e-02,  -8.98135085e-03,\n",
      "         -4.02409680e-02,  -1.25460656e-02,  -1.64139451e-01,\n",
      "          1.30003588e-02,  -2.18682937e-02,   1.34168318e-03,\n",
      "         -3.14995921e-02,  -4.79066356e-03,   8.48187040e-01,\n",
      "         -4.37549490e-02,  -1.95320693e-03,  -1.86350872e-02,\n",
      "         -8.03215424e-04,  -2.85412866e-02,  -2.29544636e-03,\n",
      "         -1.69996060e-01],\n",
      "       [ -3.17290267e-03,  -4.60633235e-02,   1.50432655e-01,\n",
      "         -1.59980626e-01,  -4.88203287e-02,  -3.53251078e-02,\n",
      "         -5.30998889e-02,  -9.69472376e-03,  -3.15027074e-02,\n",
      "          5.52440168e-03,  -1.39425586e-01,  -6.78270732e-03,\n",
      "         -3.76807908e-02,  -1.39267119e-02,  -7.24088016e-02,\n",
      "         -6.58778973e-02,  -1.08064497e-02,  -1.12270991e-02,\n",
      "         -1.29907450e-02,  -1.93502566e-02,  -4.37549490e-02,\n",
      "          8.87387209e-01,  -2.30449391e-03,  -2.10965154e-02,\n",
      "         -8.06511198e-04,  -2.07567555e-02,  -7.13890516e-03,\n",
      "         -8.10383881e-02],\n",
      "       [ -1.79242705e-03,  -4.34159081e-03,  -1.97601278e-03,\n",
      "         -4.56397621e-03,   8.19833547e-05,  -4.00771322e-03,\n",
      "         -3.00794830e-03,  -2.75880803e-04,  -7.67628435e-04,\n",
      "         -1.99917820e-03,  -2.93184448e-03,  -9.23430132e-05,\n",
      "         -7.60945137e-04,  -2.02568918e-05,  -2.58498655e-03,\n",
      "         -2.36959448e-03,  -1.50016639e-04,  -3.83812837e-04,\n",
      "         -2.02998226e-04,  -2.86786435e-04,  -1.95320693e-03,\n",
      "         -2.30449391e-03,   9.99887191e-01,  -3.34774532e-04,\n",
      "         -4.14754820e-05,  -3.39079892e-04,  -4.63077479e-05,\n",
      "         -2.19789236e-03],\n",
      "       [  1.19858370e-03,   1.50750767e-02,   2.97231112e-02,\n",
      "         -2.50509281e-02,  -1.65722724e-02,  -6.62872569e-03,\n",
      "          3.12194234e-03,  -5.90375207e-03,  -4.27157196e-03,\n",
      "         -6.31909257e-03,  -2.63636843e-02,  -2.05552783e-03,\n",
      "         -9.67414945e-03,  -4.14739316e-03,  -2.39631821e-02,\n",
      "         -5.23952910e-03,  -4.03190857e-03,  -1.03877920e-03,\n",
      "         -5.30690178e-03,  -3.67966166e-03,  -1.86350872e-02,\n",
      "         -2.10965154e-02,  -3.34774532e-04,   9.94693975e-01,\n",
      "         -1.21489367e-04,  -6.22830845e-03,  -1.59585468e-03,\n",
      "         -2.76158617e-02],\n",
      "       [ -9.13433031e-04,  -1.49008320e-03,  -8.83236204e-04,\n",
      "         -1.61567121e-03,   2.62746178e-05,  -1.53790370e-03,\n",
      "         -1.04063540e-03,  -1.24986518e-04,  -2.60312904e-04,\n",
      "         -8.38089311e-04,  -1.03004441e-03,  -3.51554319e-05,\n",
      "         -2.81927750e-04,  -5.31590735e-06,  -1.02388229e-03,\n",
      "         -8.22469938e-04,  -6.22679936e-05,  -1.32714147e-04,\n",
      "         -8.70335464e-05,  -9.52104688e-05,  -8.03215424e-04,\n",
      "         -8.06511198e-04,  -4.14754820e-05,  -1.21489367e-04,\n",
      "          9.99984883e-01,  -1.30373649e-04,  -1.33622297e-05,\n",
      "         -8.82028654e-04],\n",
      "       [  4.91298557e-04,   3.00698127e-02,   2.36156666e-02,\n",
      "         -2.22587165e-02,  -2.10904491e-02,  -1.09967350e-02,\n",
      "          1.14176634e-02,  -9.35895095e-03,  -3.00998285e-03,\n",
      "         -1.52809809e-02,  -2.62500860e-02,  -2.62325799e-03,\n",
      "         -1.17055225e-02,  -5.01957415e-03,  -3.38110909e-02,\n",
      "         -5.88170340e-04,  -5.56066645e-03,  -3.40802683e-04,\n",
      "         -7.55404744e-03,  -3.52145390e-03,  -2.85412866e-02,\n",
      "         -2.07567555e-02,  -3.39079892e-04,  -6.22830845e-03,\n",
      "         -1.30373649e-04,   9.92020607e-01,  -1.65435626e-03,\n",
      "         -3.83428027e-02],\n",
      "       [ -1.54604264e-03,   4.25345541e-03,   1.70392837e-02,\n",
      "         -7.72626153e-03,  -5.36001199e-03,   2.58515479e-03,\n",
      "          6.46507586e-04,  -8.69802163e-04,  -1.65076882e-03,\n",
      "          2.68667694e-03,  -8.72357737e-03,  -5.76006339e-04,\n",
      "         -2.62665631e-03,  -1.41129516e-03,  -3.99758140e-03,\n",
      "         -2.03798630e-03,  -9.71564421e-04,  -3.84162251e-04,\n",
      "         -1.17973393e-03,  -1.38398890e-03,  -2.29544636e-03,\n",
      "         -7.13890516e-03,  -4.63077479e-05,  -1.59585468e-03,\n",
      "         -1.33622297e-05,  -1.65435626e-03,   9.99377132e-01,\n",
      "         -5.60084462e-03],\n",
      "       [ -1.54675705e-02,   1.42123198e-01,   3.31260798e-03,\n",
      "         -9.25034204e-02,  -9.01978945e-02,  -1.04140016e-01,\n",
      "          5.74560150e-02,  -5.34194078e-02,  -8.08066189e-03,\n",
      "         -1.26539281e-01,  -1.04884596e-01,  -1.23606136e-02,\n",
      "         -5.53715197e-02,  -2.05050200e-02,  -1.91325204e-01,\n",
      "          5.15043075e-03,  -2.79479957e-02,  -2.64871032e-04,\n",
      "         -3.91245205e-02,  -1.19755100e-02,  -1.69996060e-01,\n",
      "         -8.10383881e-02,  -2.19789236e-03,  -2.76158617e-02,\n",
      "         -8.82028654e-04,  -3.83428027e-02,  -5.60084462e-03,\n",
      "          7.93999465e-01]])\n",
      "      jac: array([-0.29495366, -0.02110213,  0.37121985, -0.18798057, -0.09077877,\n",
      "        0.06481634, -0.04878409, -0.00196727, -0.04554089,  0.09010403,\n",
      "       -0.19358094, -0.01073804, -0.04648138, -0.02629033, -0.04359302,\n",
      "       -0.08081204, -0.01319972, -0.01389941, -0.01401101, -0.03133611,\n",
      "       -0.00840128, -0.16094479, -0.002166  , -0.02962343, -0.00087861,\n",
      "       -0.02669664, -0.01358381, -0.07280669])\n",
      "  message: 'Desired error not necessarily achieved due to precision loss.'\n",
      "     nfev: 104\n",
      "      nit: 4\n",
      "     njev: 92\n",
      "   status: 2\n",
      "  success: False\n",
      "        x: array([ 0.01125555, -0.01740045,  0.00957941, -0.05622549, -0.01413126,\n",
      "       -0.03722957, -0.01868937, -0.00771399, -0.00929853, -0.02171417,\n",
      "       -0.04493377, -0.00248193, -0.01448146, -0.00378495, -0.04152504,\n",
      "       -0.02159132, -0.0048318 , -0.0036905 , -0.00643441, -0.00530646,\n",
      "       -0.03189708, -0.03547334, -0.00110129, -0.00726509, -0.00039923,\n",
      "       -0.00819519, -0.00169435, -0.04159237])\n"
     ]
    }
   ],
   "source": [
    "from sklearn.preprocessing import PolynomialFeatures\n",
    "X = df[['chip1', 'chip2']].values\n",
    "kernel = PolynomialFeatures(6)\n",
    "X = kernel.fit_transform(X)\n",
    "X = X[:, 1:]\n",
    "y = df['y'].values\n",
    "print X.shape\n",
    "poly_lr = LogisticRegression(X, y, lambda_param=100, n_iterations=20000)\n",
    "poly_lr.scipy_optimize()"
   ]
  },
  {
   "cell_type": "code",
   "execution_count": 21,
   "metadata": {},
   "outputs": [
    {
     "name": "stderr",
     "output_type": "stream",
     "text": [
      "/home/uzumaki/anaconda2/lib/python2.7/site-packages/ipykernel_launcher.py:30: RuntimeWarning: overflow encountered in exp\n"
     ]
    },
    {
     "data": {
      "image/png": "[encoded data removed]",
      "text/plain": [
       "<matplotlib.figure.Figure at 0x7f685b9d5310>"
      ]
     },
     "metadata": {},
     "output_type": "display_data"
    }
   ],
   "source": [
    "# visualizing the effect\n",
    "X = df[['chip1', 'chip2']].values\n",
    "kernel = PolynomialFeatures(6)\n",
    "X = kernel.fit_transform(X)\n",
    "X = X[:, 1:]\n",
    "y = df['y'].values\n",
    "\n",
    "col1 = \"chip1\"\n",
    "col2 = \"chip2\"\n",
    "min_ex1 = df[col1].min()\n",
    "max_ex1 = df[col1].max()\n",
    "min_ex2 = df[col2].min()\n",
    "max_ex2 = df[col2].max()\n",
    "arange_step = 0.001\n",
    "fig, axes = plt.subplots(2, 3, sharex=True, sharey=True, figsize=(15, 10))\n",
    "xx, yy = np.meshgrid(np.arange(min_ex1, max_ex1, arange_step), \n",
    "                        np.arange(min_ex2, max_ex2, arange_step))\n",
    "\n",
    "lambdas = [0, 1, 10, 100, 120, 140]\n",
    "for index, lambda_param in enumerate(lambdas):\n",
    "    poly_lr = LogisticRegression(X, y, lambda_param=lambda_param, verbose=False)\n",
    "    poly_lr.scipy_optimize(verbose=False)\n",
    "    preds = np.c_[xx.ravel(), yy.ravel()]\n",
    "    accuracy = 100*(np.sum(poly_lr.predict(X) == y)/y.size)\n",
    "    preds = kernel.transform(preds)\n",
    "    preds = preds[:, 1:]\n",
    "    preds = poly_lr.predict(preds)\n",
    "    preds = preds.reshape(xx.shape)\n",
    "    fl_axes = axes.flatten()[index]\n",
    "    fl_axes.scatter(df[df['y'] == 0][col1], df[df['y'] == 0][col2],\n",
    "                    label='Not admitted', color='yellow', edgecolor='black')\n",
    "    fl_axes.scatter(df[df['y'] == 1][col1], df[df['y'] == 1][col2],\n",
    "                    label='Admitted', marker='+', color='black')\n",
    "    fl_axes.contour(xx, yy, preds, [0.5], colors='green')\n",
    "    fl_axes.set_xlabel('Exam 1 score')\n",
    "    fl_axes.set_ylabel('Exam 2 score')\n",
    "    fl_axes.legend(loc='upper right')\n",
    "    fl_axes.set_title(\"Lambda {0} with accuracy {1:.2f}%\".format(lambda_param, accuracy))\n",
    "plt.show()"
   ]
  },
  {
   "cell_type": "code",
   "execution_count": null,
   "metadata": {},
   "outputs": [],
   "source": []
  },
  {
   "cell_type": "code",
   "execution_count": null,
   "metadata": {},
   "outputs": [],
   "source": []
  },
  {
   "cell_type": "code",
   "execution_count": null,
   "metadata": {},
   "outputs": [],
   "source": []
  },
  {
   "cell_type": "code",
   "execution_count": null,
   "metadata": {},
   "outputs": [],
   "source": []
  },
  {
   "cell_type": "code",
   "execution_count": null,
   "metadata": {},
   "outputs": [],
   "source": []
  },
  {
   "cell_type": "code",
   "execution_count": null,
   "metadata": {},
   "outputs": [],
   "source": []
  },
  {
   "cell_type": "code",
   "execution_count": null,
   "metadata": {},
   "outputs": [],
   "source": []
  },
  {
   "cell_type": "code",
   "execution_count": null,
   "metadata": {},
   "outputs": [],
   "source": []
  },
  {
   "cell_type": "code",
   "execution_count": null,
   "metadata": {},
   "outputs": [],
   "source": []
  },
  {
   "cell_type": "code",
   "execution_count": 34,
   "metadata": {},
   "outputs": [],
   "source": [
    "import numpy as np\n",
    "import matplotlib.pyplot as plt\n",
    "\n",
    "from matplotlib import colors\n",
    "from sklearn.linear_model import LogisticRegression\n",
    "from sklearn.pipeline import Pipeline\n",
    "from sklearn.preprocessing import PolynomialFeatures, StandardScaler\n",
    "from scipy.special import logit\n",
    "\n",
    "%matplotlib inline"
   ]
  },
  {
   "cell_type": "code",
   "execution_count": 35,
   "metadata": {},
   "outputs": [],
   "source": [
    "data = np.loadtxt('data/ml-ex2/ex2data1.txt', delimiter=',')"
   ]
  },
  {
   "cell_type": "code",
   "execution_count": 36,
   "metadata": {},
   "outputs": [],
   "source": [
    "# Separate features (x1, x2) from target (y)\n",
    "X, y = np.hsplit(data, np.array([2]))"
   ]
  },
  {
   "cell_type": "code",
   "execution_count": 37,
   "metadata": {},
   "outputs": [],
   "source": [
    "# LogisticRegression estimator expect an y row vector\n",
    "y = y.ravel()"
   ]
  },
  {
   "cell_type": "markdown",
   "metadata": {},
   "source": [
    "\n",
    "**Logistic regression hypothesis:** \n",
    "$$ h_ \\theta (x) =   g(\\theta^Tx )  $$\n",
    "\n"
   ]
  },
  {
   "cell_type": "markdown",
   "metadata": {},
   "source": [
    "**Sigmoid function:** \n",
    "$$ g (z) =  \\frac{\\mathrm{1} }{\\mathrm{1} + e^{-z}}  $$ "
   ]
  },
  {
   "cell_type": "markdown",
   "metadata": {},
   "source": [
    "**Cost function in logistic regression:**\n",
    "$$ J(\\theta) = \\frac{1}{m} \\sum_{i=1}^m[ - y^{(i)} log(h_\\theta  (x^{(i)})) – (1 – y^{(i)}) log(1-h_\\theta  (x^{(i)}))]  $$\n",
    "\n"
   ]
  },
  {
   "cell_type": "markdown",
   "metadata": {},
   "source": [
    "**The gradient of the cost is a vector of the same length as $ \\theta $ where the $ j^{th} $ element (for j = 0, 1, . . . ,n) is defined as follows:**\n",
    "\n",
    "$$ \\frac{\\partial J(\\theta)}{\\partial \\theta_j} = \\frac{1}{m} \\sum_{i=1}^m(h_\\theta(x^{(i)})-y^{(i)})x_j^{(i)} $$\n",
    "\n"
   ]
  },
  {
   "cell_type": "markdown",
   "metadata": {},
   "source": [
    "### Unregularized logistic regression"
   ]
  },
  {
   "cell_type": "code",
   "execution_count": 38,
   "metadata": {},
   "outputs": [
    {
     "data": {
      "text/plain": [
       "LogisticRegression(C=1000000000.0)"
      ]
     },
     "execution_count": 38,
     "metadata": {},
     "output_type": "execute_result"
    }
   ],
   "source": [
    "# Use 'lbfgs' solver for logistic regression as this is what Octave fminunc does.\n",
    "# Parameter C ist the inverse regularization strength (high values = low regularization).\n",
    "# Note that regularization is applied by default.\n",
    "clf = LogisticRegression(C=1e9, solver='lbfgs')\n",
    "clf.fit(X, y)"
   ]
  },
  {
   "cell_type": "code",
   "execution_count": 39,
   "metadata": {},
   "outputs": [
    {
     "name": "stdout",
     "output_type": "stream",
     "text": [
      "-25.16138567101981 0.20623222395628113 0.20147190519771901\n"
     ]
    }
   ],
   "source": [
    "theta0 = clf.intercept_[0]\n",
    "theta1 = clf.coef_[0,0]\n",
    "theta2 = clf.coef_[0,1]\n",
    "print(theta0, theta1, theta2)"
   ]
  },
  {
   "cell_type": "code",
   "execution_count": 40,
   "metadata": {},
   "outputs": [],
   "source": [
    "# Computes x2 at y = logit(0.5) from x1 and model parameters\n",
    "# based on equation y = sigmoid(theta0 + theta1*x1 + theta2*x2)\n",
    "# where logit is the inverse of sigmoid.\n",
    "# (used for computing the linear decision boundary)\n",
    "def x2(x1):\n",
    "    return (logit(0.5) - theta0 - theta1*x1) / theta2"
   ]
  },
  {
   "cell_type": "code",
   "execution_count": 41,
   "metadata": {},
   "outputs": [],
   "source": [
    "x1_min = X[:,0].min()\n",
    "x1_max = X[:,0].max()"
   ]
  },
  {
   "cell_type": "code",
   "execution_count": 42,
   "metadata": {},
   "outputs": [],
   "source": [
    "# x1 and x2 data of linear decision boundary\n",
    "x1_plot = np.array([x1_min, x1_max])\n",
    "x2_plot = x2(x1_plot)"
   ]
  },
  {
   "cell_type": "code",
   "execution_count": 43,
   "metadata": {},
   "outputs": [
    {
     "data": {
      "text/plain": [
       "[<matplotlib.lines.Line2D at 0x7feb0ccfde90>]"
      ]
     },
     "execution_count": 43,
     "metadata": {},
     "output_type": "execute_result"
    },
    {
     "data": {
      "image/png": "[encoded data removed]",
      "text/plain": [
       "<Figure size 432x288 with 1 Axes>"
      ]
     },
     "metadata": {
      "needs_background": "light"
     },
     "output_type": "display_data"
    }
   ],
   "source": [
    "fig, ax = plt.subplots()\n",
    "\n",
    "# Mask for selecting positive and negative examples\n",
    "y_pos = y == 1\n",
    "y_neg = y == 0\n",
    "\n",
    "# Plot examples and decision boundary\n",
    "ax.plot(X[y_pos,0], X[y_pos,1], 'b+', label='Admitted')\n",
    "ax.plot(X[y_neg,0], X[y_neg,1], 'yo', label='Not admitted')\n",
    "ax.set_xlabel('Exam 1 score')\n",
    "ax.set_ylabel('Exam 2 score')\n",
    "ax.legend(loc='upper right')\n",
    "\n",
    "# Plot decision boundary\n",
    "ax.plot(x1_plot, x2_plot)"
   ]
  },
  {
   "cell_type": "code",
   "execution_count": 44,
   "metadata": {},
   "outputs": [],
   "source": [
    "X_test = np.array([\n",
    "    [45., 85.],\n",
    "    [50., 50.],\n",
    "    [80., 80.]\n",
    "])"
   ]
  },
  {
   "cell_type": "code",
   "execution_count": 45,
   "metadata": {},
   "outputs": [
    {
     "data": {
      "text/plain": [
       "array([1., 0., 1.])"
      ]
     },
     "execution_count": 45,
     "metadata": {},
     "output_type": "execute_result"
    }
   ],
   "source": [
    "# Predict class\n",
    "clf.predict(X_test)"
   ]
  },
  {
   "cell_type": "code",
   "execution_count": 46,
   "metadata": {},
   "outputs": [
    {
     "data": {
      "text/plain": [
       "array([[0.2237, 0.7763],\n",
       "       [0.9916, 0.0084],\n",
       "       [0.0006, 0.9994]])"
      ]
     },
     "execution_count": 46,
     "metadata": {},
     "output_type": "execute_result"
    }
   ],
   "source": [
    "# Predict class probabilities\n",
    "np.set_printoptions(precision=4,suppress=True)\n",
    "clf.predict_proba(X_test)"
   ]
  },
  {
   "cell_type": "code",
   "execution_count": 47,
   "metadata": {},
   "outputs": [],
   "source": [
    "theta0 = clf.intercept_[0]\n",
    "theta1 = clf.coef_[0,0]\n",
    "theta2 = clf.coef_[0,1]"
   ]
  },
  {
   "cell_type": "code",
   "execution_count": 48,
   "metadata": {},
   "outputs": [
    {
     "data": {
      "text/plain": [
       "(-25.16138567101981, 0.20623222395628113, 0.20147190519771901)"
      ]
     },
     "execution_count": 48,
     "metadata": {},
     "output_type": "execute_result"
    }
   ],
   "source": [
    "theta0, theta1, theta2"
   ]
  },
  {
   "cell_type": "code",
   "execution_count": 49,
   "metadata": {},
   "outputs": [
    {
     "data": {
      "text/plain": [
       "0.89"
      ]
     },
     "execution_count": 49,
     "metadata": {},
     "output_type": "execute_result"
    }
   ],
   "source": [
    "# Classification accuracy on training set\n",
    "clf.score(X, y)"
   ]
  },
  {
   "cell_type": "markdown",
   "metadata": {},
   "source": [
    "### Regularized logistic regression"
   ]
  },
  {
   "cell_type": "markdown",
   "metadata": {},
   "source": [
    "**Regularized logistic regression:**\n",
    "$$ J(\\theta) = \\frac{1}{m} \\sum_{i=1}^m[ - y^{(i)} log(h_\\theta  (x^{(i)})) – (1 – y^{(i)}) log(1-h_\\theta  (x^{(i)}))] + \\frac{1}{2m} \\sum_{j=1}^n \\theta_j^2 $$\n",
    "\n"
   ]
  },
  {
   "cell_type": "markdown",
   "metadata": {},
   "source": [
    "**The gradient for $ j \\ge 1 $ :**\n",
    "\n",
    "$$ \\frac{\\partial J(\\theta)}{\\partial \\theta_j} = ( \\frac{1}{m} \\sum_{i=1}^m(h_\\theta(x^{(i)})-y^{(i)})x_j^{(i)} ) + \\frac{\\lambda}{m}\\theta_j $$ \n",
    "\n"
   ]
  },
  {
   "cell_type": "code",
   "execution_count": 50,
   "metadata": {},
   "outputs": [],
   "source": [
    "# Microchip test: \n",
    "# - test 1 (x1) \n",
    "# - test 2 (x2)\n",
    "# - accepted=1, rejected=0 (y)\n",
    "data = np.loadtxt('data/ml-ex2/ex2data2.txt', delimiter=',')"
   ]
  },
  {
   "cell_type": "code",
   "execution_count": 51,
   "metadata": {},
   "outputs": [],
   "source": [
    "# LogisticRegression estimator expect an y row vector\n",
    "X, y = np.hsplit(data, np.array([2]))"
   ]
  },
  {
   "cell_type": "code",
   "execution_count": 52,
   "metadata": {},
   "outputs": [],
   "source": [
    "# Logistic regression estimator requires an y row vector\n",
    "y = y.ravel()"
   ]
  },
  {
   "cell_type": "code",
   "execution_count": 53,
   "metadata": {},
   "outputs": [
    {
     "data": {
      "text/plain": [
       "<matplotlib.legend.Legend at 0x7feb179340d0>"
      ]
     },
     "execution_count": 53,
     "metadata": {},
     "output_type": "execute_result"
    },
    {
     "data": {
      "image/png": "[encoded data removed]",
      "text/plain": [
       "<Figure size 432x288 with 1 Axes>"
      ]
     },
     "metadata": {
      "needs_background": "light"
     },
     "output_type": "display_data"
    }
   ],
   "source": [
    "fig, ax = plt.subplots()\n",
    "\n",
    "# Mask for selecting positive and negative examples\n",
    "y_pos = y == 1\n",
    "y_neg = y == 0\n",
    "\n",
    "# Plot examples\n",
    "ax.plot(X[y_pos,0], X[y_pos,1], 'b+', label='Accepted')\n",
    "ax.plot(X[y_neg,0], X[y_neg,1], 'yo', label='Rejected')\n",
    "ax.set_xlabel('Microchip test 1')\n",
    "ax.set_ylabel('Microchip test 2')\n",
    "ax.legend(loc='upper right')"
   ]
  },
  {
   "cell_type": "markdown",
   "metadata": {},
   "source": [
    "As a result of this mapping, our vector of two features (the scores on two QA tests) has been transformed into a 28-dimensional vector. A logistic regression classifier trained on this higher-dimension feature vector will have\n",
    "a more complex decision boundary and will appear nonlinear when drawn in our 2-dimensional plot. While the feature mapping allows us to build a more expressive classifier,\n",
    "it also more susceptible to overfitting. In the next parts of the exercise, you will implement regularized logistic regression to fit the data and also see for yourself how regularization can help combat the overfitting problem."
   ]
  },
  {
   "cell_type": "code",
   "execution_count": 21,
   "metadata": {},
   "outputs": [
    {
     "data": {
      "text/plain": [
       "Pipeline(steps=[('poly', PolynomialFeatures(degree=6, include_bias=False)),\n",
       "                ('scaler', StandardScaler()), ('clf', LogisticRegression())])"
      ]
     },
     "execution_count": 21,
     "metadata": {},
     "output_type": "execute_result"
    }
   ],
   "source": [
    "# Preprocessor to include polynomial features up to degree 6\n",
    "poly = PolynomialFeatures(6, include_bias=False)\n",
    "\n",
    "# Mean and standard deviation scaler\n",
    "scaler = StandardScaler()\n",
    "\n",
    "# Logistic regression classifier. \n",
    "# Note that regularization is applied by default.\n",
    "# - C=1.0 will result in good fit\n",
    "# - C=1e4 will result in overfit (to little regularization)\n",
    "# - C=1e-2 will result in underfit (to much regularization)\n",
    "#  Similar to the previous parts, you will use fminunc to learn the optimal parameters theta. \n",
    "# 'lbfgs' takes care of this\n",
    "clf = LogisticRegression(C=1.0, solver='lbfgs')\n",
    "\n",
    "# Pipeline of polynomial feature generator, feature scaler and linear regressor\n",
    "model = Pipeline([('poly', poly), ('scaler', scaler), ('clf', clf)])\n",
    "\n",
    "# Fit data to model\n",
    "model.fit(X, y)"
   ]
  },
  {
   "cell_type": "code",
   "execution_count": 22,
   "metadata": {},
   "outputs": [
    {
     "data": {
      "text/plain": [
       "0.8305084745762712"
      ]
     },
     "execution_count": 22,
     "metadata": {},
     "output_type": "execute_result"
    }
   ],
   "source": [
    "# Classification accuracy on training set\n",
    "model.score(X, y)"
   ]
  },
  {
   "cell_type": "code",
   "execution_count": 23,
   "metadata": {},
   "outputs": [
    {
     "data": {
      "image/png": "[encoded data removed]",
      "text/plain": [
       "<Figure size 432x288 with 1 Axes>"
      ]
     },
     "execution_count": 23,
     "metadata": {},
     "output_type": "execute_result"
    }
   ],
   "source": [
    "grid = np.mgrid[-1:1:500j, -1:1:500j]\n",
    "\n",
    "# Compute acceptance probabilities on 500*500 grid \n",
    "X_grid = np.c_[grid[0].ravel(), grid[1].ravel()]\n",
    "y_grid = model.predict(X_grid).reshape(grid[0].shape)\n",
    "\n",
    "# Plot decision boundary on previous figure\n",
    "cs = ax.contour(grid[0], grid[1], y_grid, 'g-', levels=[0.5])\n",
    "ax.clabel(cs)\n",
    "\n",
    "# Show previous figure with decision boundary\n",
    "fig"
   ]
  },
  {
   "cell_type": "markdown",
   "metadata": {},
   "source": [
    "### Overfit"
   ]
  },
  {
   "cell_type": "code",
   "execution_count": 54,
   "metadata": {},
   "outputs": [
    {
     "name": "stderr",
     "output_type": "stream",
     "text": [
      "/Users/sadeed/opt/anaconda3/envs/my37env/lib/python3.7/site-packages/sklearn/linear_model/_logistic.py:764: ConvergenceWarning: lbfgs failed to converge (status=1):\n",
      "STOP: TOTAL NO. of ITERATIONS REACHED LIMIT.\n",
      "\n",
      "Increase the number of iterations (max_iter) or scale the data as shown in:\n",
      "    https://scikit-learn.org/stable/modules/preprocessing.html\n",
      "Please also refer to the documentation for alternative solver options:\n",
      "    https://scikit-learn.org/stable/modules/linear_model.html#logistic-regression\n",
      "  extra_warning_msg=_LOGISTIC_SOLVER_CONVERGENCE_MSG)\n"
     ]
    },
    {
     "data": {
      "text/plain": [
       "Pipeline(steps=[('poly', PolynomialFeatures(degree=6, include_bias=False)),\n",
       "                ('scaler', StandardScaler()),\n",
       "                ('clf', LogisticRegression(C=100000))])"
      ]
     },
     "execution_count": 54,
     "metadata": {},
     "output_type": "execute_result"
    }
   ],
   "source": [
    "# Preprocessor to include polynomial features up to degree 6\n",
    "poly = PolynomialFeatures(6, include_bias=False)\n",
    "\n",
    "# Mean and standard deviation scaler\n",
    "scaler = StandardScaler()\n",
    "\n",
    "# Logistic regression classifier. \n",
    "# Note that regularization is applied by default.\n",
    "# - C=1.0 will result in good fit\n",
    "# - C=1e4 will result in overfit (to little regularization)\n",
    "# - C=1e-2 will result in underfit (to much regularization)\n",
    "#  Similar to the previous parts, you will use fminunc to learn the optimal parameters theta. \n",
    "# 'lbfgs' takes care of this\n",
    "clf = LogisticRegression(C=100000, solver='lbfgs')\n",
    "\n",
    "# Pipeline of polynomial feature generator, feature scaler and linear regressor\n",
    "model = Pipeline([('poly', poly), ('scaler', scaler), ('clf', clf)])\n",
    "\n",
    "# Fit data to model\n",
    "model.fit(X, y)"
   ]
  },
  {
   "cell_type": "code",
   "execution_count": 55,
   "metadata": {},
   "outputs": [
    {
     "data": {
      "text/plain": [
       "0.8559322033898306"
      ]
     },
     "execution_count": 55,
     "metadata": {},
     "output_type": "execute_result"
    }
   ],
   "source": [
    "# Classification accuracy on training set\n",
    "model.score(X, y)"
   ]
  },
  {
   "cell_type": "code",
   "execution_count": 56,
   "metadata": {},
   "outputs": [
    {
     "data": {
      "image/png": "[encoded data removed]",
      "text/plain": [
       "<Figure size 432x288 with 1 Axes>"
      ]
     },
     "execution_count": 56,
     "metadata": {},
     "output_type": "execute_result"
    }
   ],
   "source": [
    "grid = np.mgrid[-1:1:500j, -1:1:500j]\n",
    "\n",
    "# Compute acceptance probabilities on 500*500 grid \n",
    "X_grid = np.c_[grid[0].ravel(), grid[1].ravel()]\n",
    "y_grid = model.predict(X_grid).reshape(grid[0].shape)\n",
    "\n",
    "# Plot decision boundary on previous figure\n",
    "cs = ax.contour(grid[0], grid[1], y_grid, 'g-', levels=[0.5])\n",
    "ax.clabel(cs)\n",
    "\n",
    "# Show previous figure with decision boundary\n",
    "fig"
   ]
  },
  {
   "cell_type": "code",
   "execution_count": null,
   "metadata": {},
   "outputs": [],
   "source": []
  }
 ],
 "metadata": {
  "kernelspec": {
   "display_name": "Python 3",
   "language": "python",
   "name": "python3"
  },
  "language_info": {
   "codemirror_mode": {
    "name": "ipython",
    "version": 3
   },
   "file_extension": ".py",
   "mimetype": "text/x-python",
   "name": "python",
   "nbconvert_exporter": "python",
   "pygments_lexer": "ipython3",
   "version": "3.7.7"
  },
  "varInspector": {
   "cols": {
    "lenName": 16,
    "lenType": 16,
    "lenVar": 40
   },
   "kernels_config": {
    "python": {
     "delete_cmd_postfix": "",
     "delete_cmd_prefix": "del ",
     "library": "var_list.py",
     "varRefreshCmd": "print(var_dic_list())"
    },
    "r": {
     "delete_cmd_postfix": ") ",
     "delete_cmd_prefix": "rm(",
     "library": "var_list.r",
     "varRefreshCmd": "cat(var_dic_list()) "
    }
   },
   "position": {
    "height": "143.47825622558594px",
    "left": "742.0435180664062px",
    "right": "20px",
    "top": "120px",
    "width": "350px"
   },
   "types_to_exclude": [
    "module",
    "function",
    "builtin_function_or_method",
    "instance",
    "_Feature"
   ],
   "window_display": false
  }
 },
 "nbformat": 4,
 "nbformat_minor": 2
}
